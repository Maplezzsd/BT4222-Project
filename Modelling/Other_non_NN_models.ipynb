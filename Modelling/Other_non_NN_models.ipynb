{
  "nbformat": 4,
  "nbformat_minor": 0,
  "metadata": {
    "colab": {
      "name": "Other non-NN models.ipynb",
      "provenance": [],
      "collapsed_sections": []
    },
    "kernelspec": {
      "name": "python3",
      "display_name": "Python 3"
    }
  },
  "cells": [
    {
      "cell_type": "markdown",
      "metadata": {
        "id": "2BDtRbgQAiwL",
        "colab_type": "text"
      },
      "source": [
        "Reference: https://machinelearningmastery.com/a-tour-of-machine-learning-algorithms/"
      ]
    },
    {
      "cell_type": "code",
      "metadata": {
        "id": "2lR6IoIAB0wL",
        "colab_type": "code",
        "outputId": "546894de-19ec-4ab5-e018-836fb70b4319",
        "colab": {
          "base_uri": "https://localhost:8080/",
          "height": 124
        }
      },
      "source": [
        "from google.colab import drive\n",
        "\n",
        "drive.mount('/content/drive')"
      ],
      "execution_count": 1,
      "outputs": [
        {
          "output_type": "stream",
          "text": [
            "Go to this URL in a browser: https://accounts.google.com/o/oauth2/auth?client_id=947318989803-6bn6qk8qdgf4n4g3pfee6491hc0brc4i.apps.googleusercontent.com&redirect_uri=urn%3aietf%3awg%3aoauth%3a2.0%3aoob&response_type=code&scope=email%20https%3a%2f%2fwww.googleapis.com%2fauth%2fdocs.test%20https%3a%2f%2fwww.googleapis.com%2fauth%2fdrive%20https%3a%2f%2fwww.googleapis.com%2fauth%2fdrive.photos.readonly%20https%3a%2f%2fwww.googleapis.com%2fauth%2fpeopleapi.readonly\n",
            "\n",
            "Enter your authorization code:\n",
            "··········\n",
            "Mounted at /content/drive\n"
          ],
          "name": "stdout"
        }
      ]
    },
    {
      "cell_type": "code",
      "metadata": {
        "id": "qMpNG0fPCMDC",
        "colab_type": "code",
        "colab": {}
      },
      "source": [
        "import pandas as pd\n",
        "import numpy as np\n",
        "import matplotlib as mpl\n",
        "import matplotlib.pyplot as plt\n",
        "from matplotlib.legend_handler import HandlerLine2D\n",
        "\n",
        "from sklearn import metrics"
      ],
      "execution_count": 0,
      "outputs": []
    },
    {
      "cell_type": "code",
      "metadata": {
        "id": "4DkgLEdXCd0-",
        "colab_type": "code",
        "outputId": "d3c796a3-5175-47a7-859f-7e38515f0f28",
        "colab": {
          "base_uri": "https://localhost:8080/",
          "height": 35
        }
      },
      "source": [
        "# reading the labelled kaggle data\n",
        "data_path = '/content/drive/My Drive/BT4222/Data/kaggle_labeled.csv'\n",
        "\n",
        "data = pd.read_csv(data_path)\n",
        "data.shape"
      ],
      "execution_count": 3,
      "outputs": [
        {
          "output_type": "execute_result",
          "data": {
            "text/plain": [
              "(590504, 9)"
            ]
          },
          "metadata": {
            "tags": []
          },
          "execution_count": 3
        }
      ]
    },
    {
      "cell_type": "code",
      "metadata": {
        "id": "x3LNnpE-CtXJ",
        "colab_type": "code",
        "outputId": "35e9e1b0-17dc-4df3-ac5e-69a4356751c3",
        "colab": {
          "base_uri": "https://localhost:8080/",
          "height": 375
        }
      },
      "source": [
        "data.head()"
      ],
      "execution_count": 0,
      "outputs": [
        {
          "output_type": "execute_result",
          "data": {
            "text/html": [
              "<div>\n",
              "<style scoped>\n",
              "    .dataframe tbody tr th:only-of-type {\n",
              "        vertical-align: middle;\n",
              "    }\n",
              "\n",
              "    .dataframe tbody tr th {\n",
              "        vertical-align: top;\n",
              "    }\n",
              "\n",
              "    .dataframe thead th {\n",
              "        text-align: right;\n",
              "    }\n",
              "</style>\n",
              "<table border=\"1\" class=\"dataframe\">\n",
              "  <thead>\n",
              "    <tr style=\"text-align: right;\">\n",
              "      <th></th>\n",
              "      <th>tweet_id</th>\n",
              "      <th>author_id</th>\n",
              "      <th>inbound</th>\n",
              "      <th>created_at</th>\n",
              "      <th>text</th>\n",
              "      <th>response_tweet_id</th>\n",
              "      <th>in_response_to_tweet_id</th>\n",
              "      <th>response_ability_label</th>\n",
              "      <th>tweet_from_company</th>\n",
              "    </tr>\n",
              "  </thead>\n",
              "  <tbody>\n",
              "    <tr>\n",
              "      <th>0</th>\n",
              "      <td>1881362</td>\n",
              "      <td>561461</td>\n",
              "      <td>True</td>\n",
              "      <td>Tue Oct 17 17:29:44 +0000 2017</td>\n",
              "      <td>@118424 The speed of your DATA can be compared...</td>\n",
              "      <td>1881361</td>\n",
              "      <td>1881363.0</td>\n",
              "      <td>1</td>\n",
              "      <td>0</td>\n",
              "    </tr>\n",
              "    <tr>\n",
              "      <th>1</th>\n",
              "      <td>740989</td>\n",
              "      <td>297215</td>\n",
              "      <td>True</td>\n",
              "      <td>Wed Oct 11 13:58:30 +0000 2017</td>\n",
              "      <td>@AppleSupport 11</td>\n",
              "      <td>740991</td>\n",
              "      <td>740988.0</td>\n",
              "      <td>1</td>\n",
              "      <td>0</td>\n",
              "    </tr>\n",
              "    <tr>\n",
              "      <th>2</th>\n",
              "      <td>621080</td>\n",
              "      <td>267405</td>\n",
              "      <td>True</td>\n",
              "      <td>Wed Nov 22 15:50:26 +0000 2017</td>\n",
              "      <td>@GloCare Please could you help me with any app...</td>\n",
              "      <td>621079,621081</td>\n",
              "      <td>621082.0</td>\n",
              "      <td>1</td>\n",
              "      <td>0</td>\n",
              "    </tr>\n",
              "    <tr>\n",
              "      <th>3</th>\n",
              "      <td>2235058</td>\n",
              "      <td>141913</td>\n",
              "      <td>True</td>\n",
              "      <td>Sat Nov 11 08:21:51 +0000 2017</td>\n",
              "      <td>@Safaricom_Care DM (1)</td>\n",
              "      <td>2235060</td>\n",
              "      <td>2235057.0</td>\n",
              "      <td>1</td>\n",
              "      <td>0</td>\n",
              "    </tr>\n",
              "    <tr>\n",
              "      <th>4</th>\n",
              "      <td>2163052</td>\n",
              "      <td>390852</td>\n",
              "      <td>True</td>\n",
              "      <td>Thu Nov 09 07:48:00 +0000 2017</td>\n",
              "      <td>@LondonMidland hello, long queue at Worcester ...</td>\n",
              "      <td>2163051</td>\n",
              "      <td>NaN</td>\n",
              "      <td>1</td>\n",
              "      <td>0</td>\n",
              "    </tr>\n",
              "  </tbody>\n",
              "</table>\n",
              "</div>"
            ],
            "text/plain": [
              "   tweet_id  author_id  ...  response_ability_label tweet_from_company\n",
              "0   1881362     561461  ...                       1                  0\n",
              "1    740989     297215  ...                       1                  0\n",
              "2    621080     267405  ...                       1                  0\n",
              "3   2235058     141913  ...                       1                  0\n",
              "4   2163052     390852  ...                       1                  0\n",
              "\n",
              "[5 rows x 9 columns]"
            ]
          },
          "metadata": {
            "tags": []
          },
          "execution_count": 4
        }
      ]
    },
    {
      "cell_type": "markdown",
      "metadata": {
        "id": "ZFUb8UXFC9KE",
        "colab_type": "text"
      },
      "source": [
        "# Pre-Processing and Vectorizing\n"
      ]
    },
    {
      "cell_type": "code",
      "metadata": {
        "id": "8qqy7mR2C8jj",
        "colab_type": "code",
        "colab": {}
      },
      "source": [
        "import nltk\n",
        "from nltk.tokenize import sent_tokenize, word_tokenize, TweetTokenizer\n",
        "import re\n",
        "from sklearn.feature_extraction.text import CountVectorizer\n",
        "from sklearn.model_selection import train_test_split\n",
        "\n",
        "from sklearn.pipeline import Pipeline\n",
        "from sklearn.model_selection import GridSearchCV"
      ],
      "execution_count": 0,
      "outputs": []
    },
    {
      "cell_type": "code",
      "metadata": {
        "id": "uRfXGb_zDKtK",
        "colab_type": "code",
        "outputId": "68877fc6-9ef1-4575-abc4-5192e13aae5f",
        "colab": {
          "base_uri": "https://localhost:8080/",
          "height": 1000
        }
      },
      "source": [
        "nltk.download('all')"
      ],
      "execution_count": 5,
      "outputs": [
        {
          "output_type": "stream",
          "text": [
            "[nltk_data] Downloading collection 'all'\n",
            "[nltk_data]    | \n",
            "[nltk_data]    | Downloading package abc to /root/nltk_data...\n",
            "[nltk_data]    |   Unzipping corpora/abc.zip.\n",
            "[nltk_data]    | Downloading package alpino to /root/nltk_data...\n",
            "[nltk_data]    |   Unzipping corpora/alpino.zip.\n",
            "[nltk_data]    | Downloading package biocreative_ppi to\n",
            "[nltk_data]    |     /root/nltk_data...\n",
            "[nltk_data]    |   Unzipping corpora/biocreative_ppi.zip.\n",
            "[nltk_data]    | Downloading package brown to /root/nltk_data...\n",
            "[nltk_data]    |   Unzipping corpora/brown.zip.\n",
            "[nltk_data]    | Downloading package brown_tei to /root/nltk_data...\n",
            "[nltk_data]    |   Unzipping corpora/brown_tei.zip.\n",
            "[nltk_data]    | Downloading package cess_cat to /root/nltk_data...\n",
            "[nltk_data]    |   Unzipping corpora/cess_cat.zip.\n",
            "[nltk_data]    | Downloading package cess_esp to /root/nltk_data...\n",
            "[nltk_data]    |   Unzipping corpora/cess_esp.zip.\n",
            "[nltk_data]    | Downloading package chat80 to /root/nltk_data...\n",
            "[nltk_data]    |   Unzipping corpora/chat80.zip.\n",
            "[nltk_data]    | Downloading package city_database to\n",
            "[nltk_data]    |     /root/nltk_data...\n",
            "[nltk_data]    |   Unzipping corpora/city_database.zip.\n",
            "[nltk_data]    | Downloading package cmudict to /root/nltk_data...\n",
            "[nltk_data]    |   Unzipping corpora/cmudict.zip.\n",
            "[nltk_data]    | Downloading package comparative_sentences to\n",
            "[nltk_data]    |     /root/nltk_data...\n",
            "[nltk_data]    |   Unzipping corpora/comparative_sentences.zip.\n",
            "[nltk_data]    | Downloading package comtrans to /root/nltk_data...\n",
            "[nltk_data]    | Downloading package conll2000 to /root/nltk_data...\n",
            "[nltk_data]    |   Unzipping corpora/conll2000.zip.\n",
            "[nltk_data]    | Downloading package conll2002 to /root/nltk_data...\n",
            "[nltk_data]    |   Unzipping corpora/conll2002.zip.\n",
            "[nltk_data]    | Downloading package conll2007 to /root/nltk_data...\n",
            "[nltk_data]    | Downloading package crubadan to /root/nltk_data...\n",
            "[nltk_data]    |   Unzipping corpora/crubadan.zip.\n",
            "[nltk_data]    | Downloading package dependency_treebank to\n",
            "[nltk_data]    |     /root/nltk_data...\n",
            "[nltk_data]    |   Unzipping corpora/dependency_treebank.zip.\n",
            "[nltk_data]    | Downloading package dolch to /root/nltk_data...\n",
            "[nltk_data]    |   Unzipping corpora/dolch.zip.\n",
            "[nltk_data]    | Downloading package europarl_raw to\n",
            "[nltk_data]    |     /root/nltk_data...\n",
            "[nltk_data]    |   Unzipping corpora/europarl_raw.zip.\n",
            "[nltk_data]    | Downloading package floresta to /root/nltk_data...\n",
            "[nltk_data]    |   Unzipping corpora/floresta.zip.\n",
            "[nltk_data]    | Downloading package framenet_v15 to\n",
            "[nltk_data]    |     /root/nltk_data...\n",
            "[nltk_data]    |   Unzipping corpora/framenet_v15.zip.\n",
            "[nltk_data]    | Downloading package framenet_v17 to\n",
            "[nltk_data]    |     /root/nltk_data...\n",
            "[nltk_data]    |   Unzipping corpora/framenet_v17.zip.\n",
            "[nltk_data]    | Downloading package gazetteers to /root/nltk_data...\n",
            "[nltk_data]    |   Unzipping corpora/gazetteers.zip.\n",
            "[nltk_data]    | Downloading package genesis to /root/nltk_data...\n",
            "[nltk_data]    |   Unzipping corpora/genesis.zip.\n",
            "[nltk_data]    | Downloading package gutenberg to /root/nltk_data...\n",
            "[nltk_data]    |   Unzipping corpora/gutenberg.zip.\n",
            "[nltk_data]    | Downloading package ieer to /root/nltk_data...\n",
            "[nltk_data]    |   Unzipping corpora/ieer.zip.\n",
            "[nltk_data]    | Downloading package inaugural to /root/nltk_data...\n",
            "[nltk_data]    |   Unzipping corpora/inaugural.zip.\n",
            "[nltk_data]    | Downloading package indian to /root/nltk_data...\n",
            "[nltk_data]    |   Unzipping corpora/indian.zip.\n",
            "[nltk_data]    | Downloading package jeita to /root/nltk_data...\n",
            "[nltk_data]    | Downloading package kimmo to /root/nltk_data...\n",
            "[nltk_data]    |   Unzipping corpora/kimmo.zip.\n",
            "[nltk_data]    | Downloading package knbc to /root/nltk_data...\n",
            "[nltk_data]    | Downloading package lin_thesaurus to\n",
            "[nltk_data]    |     /root/nltk_data...\n",
            "[nltk_data]    |   Unzipping corpora/lin_thesaurus.zip.\n",
            "[nltk_data]    | Downloading package mac_morpho to /root/nltk_data...\n",
            "[nltk_data]    |   Unzipping corpora/mac_morpho.zip.\n",
            "[nltk_data]    | Downloading package machado to /root/nltk_data...\n",
            "[nltk_data]    | Downloading package masc_tagged to /root/nltk_data...\n",
            "[nltk_data]    | Downloading package moses_sample to\n",
            "[nltk_data]    |     /root/nltk_data...\n",
            "[nltk_data]    |   Unzipping models/moses_sample.zip.\n",
            "[nltk_data]    | Downloading package movie_reviews to\n",
            "[nltk_data]    |     /root/nltk_data...\n",
            "[nltk_data]    |   Unzipping corpora/movie_reviews.zip.\n",
            "[nltk_data]    | Downloading package names to /root/nltk_data...\n",
            "[nltk_data]    |   Unzipping corpora/names.zip.\n",
            "[nltk_data]    | Downloading package nombank.1.0 to /root/nltk_data...\n",
            "[nltk_data]    | Downloading package nps_chat to /root/nltk_data...\n",
            "[nltk_data]    |   Unzipping corpora/nps_chat.zip.\n",
            "[nltk_data]    | Downloading package omw to /root/nltk_data...\n",
            "[nltk_data]    |   Unzipping corpora/omw.zip.\n",
            "[nltk_data]    | Downloading package opinion_lexicon to\n",
            "[nltk_data]    |     /root/nltk_data...\n",
            "[nltk_data]    |   Unzipping corpora/opinion_lexicon.zip.\n",
            "[nltk_data]    | Downloading package paradigms to /root/nltk_data...\n",
            "[nltk_data]    |   Unzipping corpora/paradigms.zip.\n",
            "[nltk_data]    | Downloading package pil to /root/nltk_data...\n",
            "[nltk_data]    |   Unzipping corpora/pil.zip.\n",
            "[nltk_data]    | Downloading package pl196x to /root/nltk_data...\n",
            "[nltk_data]    |   Unzipping corpora/pl196x.zip.\n",
            "[nltk_data]    | Downloading package ppattach to /root/nltk_data...\n",
            "[nltk_data]    |   Unzipping corpora/ppattach.zip.\n",
            "[nltk_data]    | Downloading package problem_reports to\n",
            "[nltk_data]    |     /root/nltk_data...\n",
            "[nltk_data]    |   Unzipping corpora/problem_reports.zip.\n",
            "[nltk_data]    | Downloading package propbank to /root/nltk_data...\n",
            "[nltk_data]    | Downloading package ptb to /root/nltk_data...\n",
            "[nltk_data]    |   Unzipping corpora/ptb.zip.\n",
            "[nltk_data]    | Downloading package product_reviews_1 to\n",
            "[nltk_data]    |     /root/nltk_data...\n",
            "[nltk_data]    |   Unzipping corpora/product_reviews_1.zip.\n",
            "[nltk_data]    | Downloading package product_reviews_2 to\n",
            "[nltk_data]    |     /root/nltk_data...\n",
            "[nltk_data]    |   Unzipping corpora/product_reviews_2.zip.\n",
            "[nltk_data]    | Downloading package pros_cons to /root/nltk_data...\n",
            "[nltk_data]    |   Unzipping corpora/pros_cons.zip.\n",
            "[nltk_data]    | Downloading package qc to /root/nltk_data...\n",
            "[nltk_data]    |   Unzipping corpora/qc.zip.\n",
            "[nltk_data]    | Downloading package reuters to /root/nltk_data...\n",
            "[nltk_data]    | Downloading package rte to /root/nltk_data...\n",
            "[nltk_data]    |   Unzipping corpora/rte.zip.\n",
            "[nltk_data]    | Downloading package semcor to /root/nltk_data...\n",
            "[nltk_data]    | Downloading package senseval to /root/nltk_data...\n",
            "[nltk_data]    |   Unzipping corpora/senseval.zip.\n",
            "[nltk_data]    | Downloading package sentiwordnet to\n",
            "[nltk_data]    |     /root/nltk_data...\n",
            "[nltk_data]    |   Unzipping corpora/sentiwordnet.zip.\n",
            "[nltk_data]    | Downloading package sentence_polarity to\n",
            "[nltk_data]    |     /root/nltk_data...\n",
            "[nltk_data]    |   Unzipping corpora/sentence_polarity.zip.\n",
            "[nltk_data]    | Downloading package shakespeare to /root/nltk_data...\n",
            "[nltk_data]    |   Unzipping corpora/shakespeare.zip.\n",
            "[nltk_data]    | Downloading package sinica_treebank to\n",
            "[nltk_data]    |     /root/nltk_data...\n",
            "[nltk_data]    |   Unzipping corpora/sinica_treebank.zip.\n",
            "[nltk_data]    | Downloading package smultron to /root/nltk_data...\n",
            "[nltk_data]    |   Unzipping corpora/smultron.zip.\n",
            "[nltk_data]    | Downloading package state_union to /root/nltk_data...\n",
            "[nltk_data]    |   Unzipping corpora/state_union.zip.\n",
            "[nltk_data]    | Downloading package stopwords to /root/nltk_data...\n",
            "[nltk_data]    |   Unzipping corpora/stopwords.zip.\n",
            "[nltk_data]    | Downloading package subjectivity to\n",
            "[nltk_data]    |     /root/nltk_data...\n",
            "[nltk_data]    |   Unzipping corpora/subjectivity.zip.\n",
            "[nltk_data]    | Downloading package swadesh to /root/nltk_data...\n",
            "[nltk_data]    |   Unzipping corpora/swadesh.zip.\n",
            "[nltk_data]    | Downloading package switchboard to /root/nltk_data...\n",
            "[nltk_data]    |   Unzipping corpora/switchboard.zip.\n",
            "[nltk_data]    | Downloading package timit to /root/nltk_data...\n",
            "[nltk_data]    |   Unzipping corpora/timit.zip.\n",
            "[nltk_data]    | Downloading package toolbox to /root/nltk_data...\n",
            "[nltk_data]    |   Unzipping corpora/toolbox.zip.\n",
            "[nltk_data]    | Downloading package treebank to /root/nltk_data...\n",
            "[nltk_data]    |   Unzipping corpora/treebank.zip.\n",
            "[nltk_data]    | Downloading package twitter_samples to\n",
            "[nltk_data]    |     /root/nltk_data...\n",
            "[nltk_data]    |   Unzipping corpora/twitter_samples.zip.\n",
            "[nltk_data]    | Downloading package udhr to /root/nltk_data...\n",
            "[nltk_data]    |   Unzipping corpora/udhr.zip.\n",
            "[nltk_data]    | Downloading package udhr2 to /root/nltk_data...\n",
            "[nltk_data]    |   Unzipping corpora/udhr2.zip.\n",
            "[nltk_data]    | Downloading package unicode_samples to\n",
            "[nltk_data]    |     /root/nltk_data...\n",
            "[nltk_data]    |   Unzipping corpora/unicode_samples.zip.\n",
            "[nltk_data]    | Downloading package universal_treebanks_v20 to\n",
            "[nltk_data]    |     /root/nltk_data...\n",
            "[nltk_data]    | Downloading package verbnet to /root/nltk_data...\n",
            "[nltk_data]    |   Unzipping corpora/verbnet.zip.\n",
            "[nltk_data]    | Downloading package verbnet3 to /root/nltk_data...\n",
            "[nltk_data]    |   Unzipping corpora/verbnet3.zip.\n",
            "[nltk_data]    | Downloading package webtext to /root/nltk_data...\n",
            "[nltk_data]    |   Unzipping corpora/webtext.zip.\n",
            "[nltk_data]    | Downloading package wordnet to /root/nltk_data...\n",
            "[nltk_data]    |   Unzipping corpora/wordnet.zip.\n",
            "[nltk_data]    | Downloading package wordnet_ic to /root/nltk_data...\n",
            "[nltk_data]    |   Unzipping corpora/wordnet_ic.zip.\n",
            "[nltk_data]    | Downloading package words to /root/nltk_data...\n",
            "[nltk_data]    |   Unzipping corpora/words.zip.\n",
            "[nltk_data]    | Downloading package ycoe to /root/nltk_data...\n",
            "[nltk_data]    |   Unzipping corpora/ycoe.zip.\n",
            "[nltk_data]    | Downloading package rslp to /root/nltk_data...\n",
            "[nltk_data]    |   Unzipping stemmers/rslp.zip.\n",
            "[nltk_data]    | Downloading package maxent_treebank_pos_tagger to\n",
            "[nltk_data]    |     /root/nltk_data...\n",
            "[nltk_data]    |   Unzipping taggers/maxent_treebank_pos_tagger.zip.\n",
            "[nltk_data]    | Downloading package universal_tagset to\n",
            "[nltk_data]    |     /root/nltk_data...\n",
            "[nltk_data]    |   Unzipping taggers/universal_tagset.zip.\n",
            "[nltk_data]    | Downloading package maxent_ne_chunker to\n",
            "[nltk_data]    |     /root/nltk_data...\n",
            "[nltk_data]    |   Unzipping chunkers/maxent_ne_chunker.zip.\n",
            "[nltk_data]    | Downloading package punkt to /root/nltk_data...\n",
            "[nltk_data]    |   Unzipping tokenizers/punkt.zip.\n",
            "[nltk_data]    | Downloading package book_grammars to\n",
            "[nltk_data]    |     /root/nltk_data...\n",
            "[nltk_data]    |   Unzipping grammars/book_grammars.zip.\n",
            "[nltk_data]    | Downloading package sample_grammars to\n",
            "[nltk_data]    |     /root/nltk_data...\n",
            "[nltk_data]    |   Unzipping grammars/sample_grammars.zip.\n",
            "[nltk_data]    | Downloading package spanish_grammars to\n",
            "[nltk_data]    |     /root/nltk_data...\n",
            "[nltk_data]    |   Unzipping grammars/spanish_grammars.zip.\n",
            "[nltk_data]    | Downloading package basque_grammars to\n",
            "[nltk_data]    |     /root/nltk_data...\n",
            "[nltk_data]    |   Unzipping grammars/basque_grammars.zip.\n",
            "[nltk_data]    | Downloading package large_grammars to\n",
            "[nltk_data]    |     /root/nltk_data...\n",
            "[nltk_data]    |   Unzipping grammars/large_grammars.zip.\n",
            "[nltk_data]    | Downloading package tagsets to /root/nltk_data...\n",
            "[nltk_data]    |   Unzipping help/tagsets.zip.\n",
            "[nltk_data]    | Downloading package snowball_data to\n",
            "[nltk_data]    |     /root/nltk_data...\n",
            "[nltk_data]    | Downloading package bllip_wsj_no_aux to\n",
            "[nltk_data]    |     /root/nltk_data...\n",
            "[nltk_data]    |   Unzipping models/bllip_wsj_no_aux.zip.\n",
            "[nltk_data]    | Downloading package word2vec_sample to\n",
            "[nltk_data]    |     /root/nltk_data...\n",
            "[nltk_data]    |   Unzipping models/word2vec_sample.zip.\n",
            "[nltk_data]    | Downloading package panlex_swadesh to\n",
            "[nltk_data]    |     /root/nltk_data...\n",
            "[nltk_data]    | Downloading package mte_teip5 to /root/nltk_data...\n",
            "[nltk_data]    |   Unzipping corpora/mte_teip5.zip.\n",
            "[nltk_data]    | Downloading package averaged_perceptron_tagger to\n",
            "[nltk_data]    |     /root/nltk_data...\n",
            "[nltk_data]    |   Unzipping taggers/averaged_perceptron_tagger.zip.\n",
            "[nltk_data]    | Downloading package averaged_perceptron_tagger_ru to\n",
            "[nltk_data]    |     /root/nltk_data...\n",
            "[nltk_data]    |   Unzipping\n",
            "[nltk_data]    |       taggers/averaged_perceptron_tagger_ru.zip.\n",
            "[nltk_data]    | Downloading package perluniprops to\n",
            "[nltk_data]    |     /root/nltk_data...\n",
            "[nltk_data]    |   Unzipping misc/perluniprops.zip.\n",
            "[nltk_data]    | Downloading package nonbreaking_prefixes to\n",
            "[nltk_data]    |     /root/nltk_data...\n",
            "[nltk_data]    |   Unzipping corpora/nonbreaking_prefixes.zip.\n",
            "[nltk_data]    | Downloading package vader_lexicon to\n",
            "[nltk_data]    |     /root/nltk_data...\n",
            "[nltk_data]    | Downloading package porter_test to /root/nltk_data...\n",
            "[nltk_data]    |   Unzipping stemmers/porter_test.zip.\n",
            "[nltk_data]    | Downloading package wmt15_eval to /root/nltk_data...\n",
            "[nltk_data]    |   Unzipping models/wmt15_eval.zip.\n",
            "[nltk_data]    | Downloading package mwa_ppdb to /root/nltk_data...\n",
            "[nltk_data]    |   Unzipping misc/mwa_ppdb.zip.\n",
            "[nltk_data]    | \n",
            "[nltk_data]  Done downloading collection all\n"
          ],
          "name": "stdout"
        },
        {
          "output_type": "execute_result",
          "data": {
            "text/plain": [
              "True"
            ]
          },
          "metadata": {
            "tags": []
          },
          "execution_count": 5
        }
      ]
    },
    {
      "cell_type": "code",
      "metadata": {
        "id": "Dch9rEZxDMkb",
        "colab_type": "code",
        "colab": {}
      },
      "source": [
        "tknzr = TweetTokenizer(strip_handles=True, reduce_len=True)"
      ],
      "execution_count": 0,
      "outputs": []
    },
    {
      "cell_type": "code",
      "metadata": {
        "id": "Pa9zDJmwDWxa",
        "colab_type": "code",
        "outputId": "ef3cc7d6-4212-442f-84f8-bd9acfbd4fe3",
        "colab": {
          "base_uri": "https://localhost:8080/",
          "height": 35
        }
      },
      "source": [
        "# tokenize to remove handles and some noises from \"extended\" words like \"wayyyyyyyyyyyy\"\n",
        "df = data.copy()\n",
        "\n",
        "df.drop(['tweet_id', 'inbound', 'author_id', 'created_at', 'response_tweet_id', 'in_response_to_tweet_id', 'tweet_from_company'], axis=1, inplace=True)\n",
        "df.shape"
      ],
      "execution_count": 7,
      "outputs": [
        {
          "output_type": "execute_result",
          "data": {
            "text/plain": [
              "(590504, 2)"
            ]
          },
          "metadata": {
            "tags": []
          },
          "execution_count": 7
        }
      ]
    },
    {
      "cell_type": "code",
      "metadata": {
        "id": "qGINF6WMHS_I",
        "colab_type": "code",
        "outputId": "40d9f539-27eb-45a8-f6bf-98cf46e11791",
        "colab": {
          "base_uri": "https://localhost:8080/",
          "height": 35
        }
      },
      "source": [
        "df.columns"
      ],
      "execution_count": 17,
      "outputs": [
        {
          "output_type": "execute_result",
          "data": {
            "text/plain": [
              "Index(['text', 'response_ability_label', 'processed'], dtype='object')"
            ]
          },
          "metadata": {
            "tags": []
          },
          "execution_count": 17
        }
      ]
    },
    {
      "cell_type": "code",
      "metadata": {
        "id": "Tia60v35PmS_",
        "colab_type": "code",
        "colab": {}
      },
      "source": [
        "df[\"processed\"] = df.text.apply(tknzr.tokenize)"
      ],
      "execution_count": 0,
      "outputs": []
    },
    {
      "cell_type": "code",
      "metadata": {
        "id": "3mJiilERpbxh",
        "colab_type": "code",
        "colab": {}
      },
      "source": [
        "# Lemmatizing\n",
        "\n",
        "from nltk.stem import WordNetLemmatizer\n",
        "\n",
        "lem = WordNetLemmatizer()"
      ],
      "execution_count": 0,
      "outputs": []
    },
    {
      "cell_type": "code",
      "metadata": {
        "id": "P_QjxUYjpj-q",
        "colab_type": "code",
        "colab": {
          "base_uri": "https://localhost:8080/",
          "height": 202
        },
        "outputId": "6a0e0a7c-7d5b-426e-935c-e51888b61052"
      },
      "source": [
        "df['processed'] = df.processed.apply(lambda x: [lem.lemmatize(j) for j in x])\n",
        "\n",
        "df.head()"
      ],
      "execution_count": 20,
      "outputs": [
        {
          "output_type": "execute_result",
          "data": {
            "text/html": [
              "<div>\n",
              "<style scoped>\n",
              "    .dataframe tbody tr th:only-of-type {\n",
              "        vertical-align: middle;\n",
              "    }\n",
              "\n",
              "    .dataframe tbody tr th {\n",
              "        vertical-align: top;\n",
              "    }\n",
              "\n",
              "    .dataframe thead th {\n",
              "        text-align: right;\n",
              "    }\n",
              "</style>\n",
              "<table border=\"1\" class=\"dataframe\">\n",
              "  <thead>\n",
              "    <tr style=\"text-align: right;\">\n",
              "      <th></th>\n",
              "      <th>text</th>\n",
              "      <th>response_ability_label</th>\n",
              "      <th>processed</th>\n",
              "    </tr>\n",
              "  </thead>\n",
              "  <tbody>\n",
              "    <tr>\n",
              "      <th>0</th>\n",
              "      <td>@118424 The speed of your DATA can be compared...</td>\n",
              "      <td>1</td>\n",
              "      <td>[The, speed, of, your, DATA, can, be, compared...</td>\n",
              "    </tr>\n",
              "    <tr>\n",
              "      <th>1</th>\n",
              "      <td>@AppleSupport 11</td>\n",
              "      <td>1</td>\n",
              "      <td>[11]</td>\n",
              "    </tr>\n",
              "    <tr>\n",
              "      <th>2</th>\n",
              "      <td>@GloCare Please could you help me with any app...</td>\n",
              "      <td>1</td>\n",
              "      <td>[Please, could, you, help, me, with, any, app,...</td>\n",
              "    </tr>\n",
              "    <tr>\n",
              "      <th>3</th>\n",
              "      <td>@Safaricom_Care DM (1)</td>\n",
              "      <td>1</td>\n",
              "      <td>[DM, (, 1, )]</td>\n",
              "    </tr>\n",
              "    <tr>\n",
              "      <th>4</th>\n",
              "      <td>@LondonMidland hello, long queue at Worcester ...</td>\n",
              "      <td>1</td>\n",
              "      <td>[hello, ,, long, queue, at, Worcester, Shrub, ...</td>\n",
              "    </tr>\n",
              "  </tbody>\n",
              "</table>\n",
              "</div>"
            ],
            "text/plain": [
              "                                                text  ...                                          processed\n",
              "0  @118424 The speed of your DATA can be compared...  ...  [The, speed, of, your, DATA, can, be, compared...\n",
              "1                                   @AppleSupport 11  ...                                               [11]\n",
              "2  @GloCare Please could you help me with any app...  ...  [Please, could, you, help, me, with, any, app,...\n",
              "3                             @Safaricom_Care DM (1)  ...                                      [DM, (, 1, )]\n",
              "4  @LondonMidland hello, long queue at Worcester ...  ...  [hello, ,, long, queue, at, Worcester, Shrub, ...\n",
              "\n",
              "[5 rows x 3 columns]"
            ]
          },
          "metadata": {
            "tags": []
          },
          "execution_count": 20
        }
      ]
    },
    {
      "cell_type": "code",
      "metadata": {
        "id": "HAOq33W3tfLf",
        "colab_type": "code",
        "outputId": "4e215d17-b1fb-4afe-f33a-1f45b28150a2",
        "colab": {
          "base_uri": "https://localhost:8080/",
          "height": 202
        }
      },
      "source": [
        "df.processed = df.processed.apply(lambda x: ' '.join(x))\n",
        "\n",
        "df.head()"
      ],
      "execution_count": 21,
      "outputs": [
        {
          "output_type": "execute_result",
          "data": {
            "text/html": [
              "<div>\n",
              "<style scoped>\n",
              "    .dataframe tbody tr th:only-of-type {\n",
              "        vertical-align: middle;\n",
              "    }\n",
              "\n",
              "    .dataframe tbody tr th {\n",
              "        vertical-align: top;\n",
              "    }\n",
              "\n",
              "    .dataframe thead th {\n",
              "        text-align: right;\n",
              "    }\n",
              "</style>\n",
              "<table border=\"1\" class=\"dataframe\">\n",
              "  <thead>\n",
              "    <tr style=\"text-align: right;\">\n",
              "      <th></th>\n",
              "      <th>text</th>\n",
              "      <th>response_ability_label</th>\n",
              "      <th>processed</th>\n",
              "    </tr>\n",
              "  </thead>\n",
              "  <tbody>\n",
              "    <tr>\n",
              "      <th>0</th>\n",
              "      <td>@118424 The speed of your DATA can be compared...</td>\n",
              "      <td>1</td>\n",
              "      <td>The speed of your DATA can be compared to that...</td>\n",
              "    </tr>\n",
              "    <tr>\n",
              "      <th>1</th>\n",
              "      <td>@AppleSupport 11</td>\n",
              "      <td>1</td>\n",
              "      <td>11</td>\n",
              "    </tr>\n",
              "    <tr>\n",
              "      <th>2</th>\n",
              "      <td>@GloCare Please could you help me with any app...</td>\n",
              "      <td>1</td>\n",
              "      <td>Please could you help me with any app name ?</td>\n",
              "    </tr>\n",
              "    <tr>\n",
              "      <th>3</th>\n",
              "      <td>@Safaricom_Care DM (1)</td>\n",
              "      <td>1</td>\n",
              "      <td>DM ( 1 )</td>\n",
              "    </tr>\n",
              "    <tr>\n",
              "      <th>4</th>\n",
              "      <td>@LondonMidland hello, long queue at Worcester ...</td>\n",
              "      <td>1</td>\n",
              "      <td>hello , long queue at Worcester Shrub Hill a t...</td>\n",
              "    </tr>\n",
              "  </tbody>\n",
              "</table>\n",
              "</div>"
            ],
            "text/plain": [
              "                                                text  ...                                          processed\n",
              "0  @118424 The speed of your DATA can be compared...  ...  The speed of your DATA can be compared to that...\n",
              "1                                   @AppleSupport 11  ...                                                 11\n",
              "2  @GloCare Please could you help me with any app...  ...       Please could you help me with any app name ?\n",
              "3                             @Safaricom_Care DM (1)  ...                                           DM ( 1 )\n",
              "4  @LondonMidland hello, long queue at Worcester ...  ...  hello , long queue at Worcester Shrub Hill a t...\n",
              "\n",
              "[5 rows x 3 columns]"
            ]
          },
          "metadata": {
            "tags": []
          },
          "execution_count": 21
        }
      ]
    },
    {
      "cell_type": "code",
      "metadata": {
        "id": "dlnYFDguoLyO",
        "colab_type": "code",
        "colab": {
          "base_uri": "https://localhost:8080/",
          "height": 202
        },
        "outputId": "d7357276-bf70-446b-c748-3baf1271c98f"
      },
      "source": [
        "# removing punctuation (reference: https://stackoverflow.com/questions/265960/best-way-to-strip-punctuation-from-a-string)\n",
        "import string\n",
        "\n",
        "df[\"processed\"] = df.processed.apply(lambda x: x.translate(str.maketrans('', '', string.punctuation)))\n",
        "df.head()"
      ],
      "execution_count": 22,
      "outputs": [
        {
          "output_type": "execute_result",
          "data": {
            "text/html": [
              "<div>\n",
              "<style scoped>\n",
              "    .dataframe tbody tr th:only-of-type {\n",
              "        vertical-align: middle;\n",
              "    }\n",
              "\n",
              "    .dataframe tbody tr th {\n",
              "        vertical-align: top;\n",
              "    }\n",
              "\n",
              "    .dataframe thead th {\n",
              "        text-align: right;\n",
              "    }\n",
              "</style>\n",
              "<table border=\"1\" class=\"dataframe\">\n",
              "  <thead>\n",
              "    <tr style=\"text-align: right;\">\n",
              "      <th></th>\n",
              "      <th>text</th>\n",
              "      <th>response_ability_label</th>\n",
              "      <th>processed</th>\n",
              "    </tr>\n",
              "  </thead>\n",
              "  <tbody>\n",
              "    <tr>\n",
              "      <th>0</th>\n",
              "      <td>@118424 The speed of your DATA can be compared...</td>\n",
              "      <td>1</td>\n",
              "      <td>The speed of your DATA can be compared to that...</td>\n",
              "    </tr>\n",
              "    <tr>\n",
              "      <th>1</th>\n",
              "      <td>@AppleSupport 11</td>\n",
              "      <td>1</td>\n",
              "      <td>11</td>\n",
              "    </tr>\n",
              "    <tr>\n",
              "      <th>2</th>\n",
              "      <td>@GloCare Please could you help me with any app...</td>\n",
              "      <td>1</td>\n",
              "      <td>Please could you help me with any app name</td>\n",
              "    </tr>\n",
              "    <tr>\n",
              "      <th>3</th>\n",
              "      <td>@Safaricom_Care DM (1)</td>\n",
              "      <td>1</td>\n",
              "      <td>DM  1</td>\n",
              "    </tr>\n",
              "    <tr>\n",
              "      <th>4</th>\n",
              "      <td>@LondonMidland hello, long queue at Worcester ...</td>\n",
              "      <td>1</td>\n",
              "      <td>hello  long queue at Worcester Shrub Hill a ti...</td>\n",
              "    </tr>\n",
              "  </tbody>\n",
              "</table>\n",
              "</div>"
            ],
            "text/plain": [
              "                                                text  ...                                          processed\n",
              "0  @118424 The speed of your DATA can be compared...  ...  The speed of your DATA can be compared to that...\n",
              "1                                   @AppleSupport 11  ...                                                 11\n",
              "2  @GloCare Please could you help me with any app...  ...        Please could you help me with any app name \n",
              "3                             @Safaricom_Care DM (1)  ...                                             DM  1 \n",
              "4  @LondonMidland hello, long queue at Worcester ...  ...  hello  long queue at Worcester Shrub Hill a ti...\n",
              "\n",
              "[5 rows x 3 columns]"
            ]
          },
          "metadata": {
            "tags": []
          },
          "execution_count": 22
        }
      ]
    },
    {
      "cell_type": "code",
      "metadata": {
        "id": "UUVbE9DMHlba",
        "colab_type": "code",
        "colab": {}
      },
      "source": [
        "# splitting into training and validation set\n",
        "X_train, X_val, y_train, y_val = train_test_split(df.processed, df.response_ability_label, test_size=0.2, random_state=2)"
      ],
      "execution_count": 0,
      "outputs": []
    },
    {
      "cell_type": "code",
      "metadata": {
        "id": "D4bVB2QpDZFk",
        "colab_type": "code",
        "colab": {}
      },
      "source": [
        "# what vectorizer should be used?\n",
        "cv = CountVectorizer(lowercase=True, ngram_range=)"
      ],
      "execution_count": 0,
      "outputs": []
    },
    {
      "cell_type": "code",
      "metadata": {
        "id": "jSHAIVkdFopN",
        "colab_type": "code",
        "outputId": "54f43354-1ca7-4270-a7b6-b4b712c19fe8",
        "colab": {
          "base_uri": "https://localhost:8080/",
          "height": 35
        }
      },
      "source": [
        "# fit and/or transforming to training set\n",
        "\n",
        "# fit and transform X_train\n",
        "X_train_dtm = cv.fit_transform(X_train)\n",
        "\n",
        "X_val_dtm = cv.transform(X_val)\n",
        "\n",
        "X_train_dtm.shape"
      ],
      "execution_count": 25,
      "outputs": [
        {
          "output_type": "execute_result",
          "data": {
            "text/plain": [
              "(472403, 1853767)"
            ]
          },
          "metadata": {
            "tags": []
          },
          "execution_count": 25
        }
      ]
    },
    {
      "cell_type": "markdown",
      "metadata": {
        "id": "pm7adt3SBNtN",
        "colab_type": "text"
      },
      "source": [
        "# Dimensionality Reducing Algorithms\n",
        "*Can compare to see the before and after effects of such algo*"
      ]
    },
    {
      "cell_type": "code",
      "metadata": {
        "id": "_3xG-QiTE3-b",
        "colab_type": "code",
        "colab": {}
      },
      "source": [
        "\n",
        "from sklearn.feature_selection import chi2"
      ],
      "execution_count": 0,
      "outputs": []
    },
    {
      "cell_type": "markdown",
      "metadata": {
        "id": "5FyJtFvCJcbB",
        "colab_type": "text"
      },
      "source": [
        "## Chi-square Feature Selection\n",
        "Determining if doing a feature selection at this stage is better than at the vectorization stage (use base logreg model to compare) \n",
        "<br/>\n",
        "Reference: https://github.com/tthustla/twitter_sentiment_analysis_part8/blob/master/Capstone_part4-Copy6.ipynb"
      ]
    },
    {
      "cell_type": "code",
      "metadata": {
        "id": "h7Z6ACc0Jbx1",
        "colab_type": "code",
        "colab": {}
      },
      "source": [
        "chi2score = chi2(X_train_dtm, y_train)[0]"
      ],
      "execution_count": 0,
      "outputs": []
    },
    {
      "cell_type": "code",
      "metadata": {
        "id": "-LKOKas_J8BF",
        "colab_type": "code",
        "outputId": "ca4efe2b-b2a5-47ee-a0a4-0b263e2ca53b",
        "colab": {
          "base_uri": "https://localhost:8080/",
          "height": 629
        }
      },
      "source": [
        "# plotting the top 20 word features useful for prediction\n",
        "\n",
        "plt.figure(figsize=(15,10))\n",
        "wscores = zip(cv.get_feature_names(), chi2score)\n",
        "wchi2 = sorted(wscores, key=lambda x:x[1])\n",
        "topchi2 = list(zip(*wchi2[-20:]))\n",
        "x = range(len(topchi2[1]))\n",
        "labels = topchi2[0]\n",
        "plt.barh(x,topchi2[1], align='center', alpha=0.2)\n",
        "plt.plot(topchi2[1], x, '-o', markersize=5, alpha=0.8)\n",
        "plt.yticks(x, labels)\n",
        "plt.xlabel('$\\chi^2$')"
      ],
      "execution_count": 0,
      "outputs": [
        {
          "output_type": "execute_result",
          "data": {
            "text/plain": [
              "Text(0.5, 0, '$\\\\chi^2$')"
            ]
          },
          "metadata": {
            "tags": []
          },
          "execution_count": 18
        },
        {
          "output_type": "display_data",
          "data": {
            "image/png": "[encoded data removed]",
            "text/plain": [
              "<Figure size 1080x720 with 1 Axes>"
            ]
          },
          "metadata": {
            "tags": [],
            "needs_background": "light"
          }
        }
      ]
    },
    {
      "cell_type": "code",
      "metadata": {
        "id": "SJmA28CpxqXM",
        "colab_type": "code",
        "colab": {}
      },
      "source": [
        "from sklearn.feature_selection import SelectKBest, chi2\n",
        "from sklearn.linear_model import LogisticRegression\n",
        "\n",
        "\n",
        "ch2 = SelectKBest(chi2, k=200000)\n",
        "x_train_chi2_selected = ch2.fit_transform(X_train_dtm, y_train)\n",
        "x_validation_chi2_selected = ch2.transform(X_val_dtm)\n",
        "clf = LogisticRegression(solver=\"saga\", penalty='l1') # use l1 because we want to be harsh and eliminate alot of features\n",
        "clf.fit(x_train_chi2_selected, y_train)\n",
        "score = clf.score(x_validation_chi2_selected, y_val)"
      ],
      "execution_count": 0,
      "outputs": []
    },
    {
      "cell_type": "code",
      "metadata": {
        "id": "OQxKWJmG366k",
        "colab_type": "code",
        "colab": {}
      },
      "source": [
        "print(\"Training Accuracy: \", clf.score(x_train_chi2_selected, y_train))\n",
        "print(\"Validation Accuracy: \", score)"
      ],
      "execution_count": 0,
      "outputs": []
    },
    {
      "cell_type": "markdown",
      "metadata": {
        "id": "RMVNorlHAcLv",
        "colab_type": "text"
      },
      "source": [
        "# Ensemble Algorithms"
      ]
    },
    {
      "cell_type": "code",
      "metadata": {
        "id": "Jl1pL6Y3E6YD",
        "colab_type": "code",
        "colab": {}
      },
      "source": [
        "from sklearn.ensemble import RandomForestClassifier"
      ],
      "execution_count": 0,
      "outputs": []
    },
    {
      "cell_type": "markdown",
      "metadata": {
        "id": "Z4pt5IRXOdOV",
        "colab_type": "text"
      },
      "source": [
        "### Random Forest\n",
        "\n",
        "random_state=1, bootstrap=True, max_depth=10 --> 0.62786\n"
      ]
    },
    {
      "cell_type": "code",
      "metadata": {
        "id": "pPqrPHq6_oLN",
        "colab_type": "code",
        "outputId": "def0db27-6dfa-4c31-92cc-03193bd1a53f",
        "colab": {
          "base_uri": "https://localhost:8080/",
          "height": 52
        }
      },
      "source": [
        "# Random Forest Model\n",
        "\n",
        "rf = RandomForestClassifier(random_state=1, bootstrap=True, max_depth=30, n_estimators=50)\n",
        "\n",
        "rf.fit(X_train_dtm, y_train)\n",
        "\n",
        "y_pred_class = rf.predict(X_val_dtm)\n",
        "\n",
        "# Get the training accuracy\n",
        "print('Training Accuracy: ', metrics.accuracy_score(y_train, rf.predict(X_train_dtm)))\n",
        "# print the accuracy of its predictions\n",
        "print('Validation Accuracy: ', metrics.accuracy_score(y_val, y_pred_class))"
      ],
      "execution_count": 29,
      "outputs": [
        {
          "output_type": "stream",
          "text": [
            "Training Accuracy:  0.6611833540430522\n",
            "Validation Accuracy:  0.6351004648563517\n"
          ],
          "name": "stdout"
        }
      ]
    },
    {
      "cell_type": "markdown",
      "metadata": {
        "id": "kQec_p6cOgEg",
        "colab_type": "text"
      },
      "source": [
        "### XGBoost Model"
      ]
    },
    {
      "cell_type": "code",
      "metadata": {
        "id": "0_ycOzCqCJKM",
        "colab_type": "code",
        "colab": {}
      },
      "source": [
        "import time\n",
        "from xgboost import XGBClassifier\n",
        "from xgboost import plot_importance"
      ],
      "execution_count": 0,
      "outputs": []
    },
    {
      "cell_type": "code",
      "metadata": {
        "id": "eJ1EscvxBZQ5",
        "colab_type": "code",
        "colab": {
          "base_uri": "https://localhost:8080/",
          "height": 1000
        },
        "outputId": "e2621c76-e8b2-4403-c5f2-c420b96739d5"
      },
      "source": [
        "# XGboost\n",
        "\n",
        "xgb = XGBClassifier(n_estimators=500, random_state=2, max_depth=10)\n",
        "# define the eval set and metric\n",
        "eval_set = [(X_train_dtm, y_train), (X_val_dtm, y_val)]\n",
        "eval_metric = [\"auc\",\"error\"] # use auc since binary classification\n",
        "# fit the model\n",
        "%time xgb.fit(X_train_dtm, y_train, eval_metric=eval_metric, eval_set=eval_set, verbose=True, early_stopping_rounds=10)"
      ],
      "execution_count": 27,
      "outputs": [
        {
          "output_type": "stream",
          "text": [
            "[0]\tvalidation_0-auc:0.623977\tvalidation_0-error:0.401627\tvalidation_1-auc:0.62242\tvalidation_1-error:0.402926\n",
            "Multiple eval metrics have been passed: 'validation_1-error' will be used for early stopping.\n",
            "\n",
            "Will train until validation_1-error hasn't improved in 10 rounds.\n",
            "[1]\tvalidation_0-auc:0.627522\tvalidation_0-error:0.401568\tvalidation_1-auc:0.625724\tvalidation_1-error:0.402748\n",
            "[2]\tvalidation_0-auc:0.634501\tvalidation_0-error:0.39885\tvalidation_1-auc:0.632186\tvalidation_1-error:0.40003\n",
            "[3]\tvalidation_0-auc:0.647976\tvalidation_0-error:0.398649\tvalidation_1-auc:0.645171\tvalidation_1-error:0.39992\n",
            "[4]\tvalidation_0-auc:0.651228\tvalidation_0-error:0.397826\tvalidation_1-auc:0.648644\tvalidation_1-error:0.399455\n",
            "[5]\tvalidation_0-auc:0.65316\tvalidation_0-error:0.395285\tvalidation_1-auc:0.650052\tvalidation_1-error:0.396525\n",
            "[6]\tvalidation_0-auc:0.656079\tvalidation_0-error:0.390785\tvalidation_1-auc:0.65302\tvalidation_1-error:0.392545\n",
            "[7]\tvalidation_0-auc:0.660565\tvalidation_0-error:0.391437\tvalidation_1-auc:0.657785\tvalidation_1-error:0.393172\n",
            "[8]\tvalidation_0-auc:0.661521\tvalidation_0-error:0.388251\tvalidation_1-auc:0.658297\tvalidation_1-error:0.389929\n",
            "[9]\tvalidation_0-auc:0.663426\tvalidation_0-error:0.387138\tvalidation_1-auc:0.660248\tvalidation_1-error:0.388769\n",
            "[10]\tvalidation_0-auc:0.665137\tvalidation_0-error:0.386412\tvalidation_1-auc:0.661614\tvalidation_1-error:0.388049\n",
            "[11]\tvalidation_0-auc:0.666862\tvalidation_0-error:0.384225\tvalidation_1-auc:0.663116\tvalidation_1-error:0.38622\n",
            "[12]\tvalidation_0-auc:0.668208\tvalidation_0-error:0.382785\tvalidation_1-auc:0.663889\tvalidation_1-error:0.385357\n",
            "[13]\tvalidation_0-auc:0.669936\tvalidation_0-error:0.38199\tvalidation_1-auc:0.665264\tvalidation_1-error:0.384628\n",
            "[14]\tvalidation_0-auc:0.671961\tvalidation_0-error:0.380768\tvalidation_1-auc:0.667347\tvalidation_1-error:0.383384\n",
            "[15]\tvalidation_0-auc:0.67343\tvalidation_0-error:0.380614\tvalidation_1-auc:0.668877\tvalidation_1-error:0.383308\n",
            "[16]\tvalidation_0-auc:0.675563\tvalidation_0-error:0.37961\tvalidation_1-auc:0.670227\tvalidation_1-error:0.382588\n",
            "[17]\tvalidation_0-auc:0.676937\tvalidation_0-error:0.377741\tvalidation_1-auc:0.671442\tvalidation_1-error:0.380606\n",
            "[18]\tvalidation_0-auc:0.67888\tvalidation_0-error:0.376454\tvalidation_1-auc:0.673074\tvalidation_1-error:0.379336\n",
            "[19]\tvalidation_0-auc:0.679749\tvalidation_0-error:0.376065\tvalidation_1-auc:0.673735\tvalidation_1-error:0.378837\n",
            "[20]\tvalidation_0-auc:0.683046\tvalidation_0-error:0.374581\tvalidation_1-auc:0.675985\tvalidation_1-error:0.377931\n",
            "[21]\tvalidation_0-auc:0.684312\tvalidation_0-error:0.37388\tvalidation_1-auc:0.677322\tvalidation_1-error:0.377177\n",
            "[22]\tvalidation_0-auc:0.685569\tvalidation_0-error:0.373575\tvalidation_1-auc:0.678549\tvalidation_1-error:0.376779\n",
            "[23]\tvalidation_0-auc:0.686905\tvalidation_0-error:0.372925\tvalidation_1-auc:0.67952\tvalidation_1-error:0.37661\n",
            "[24]\tvalidation_0-auc:0.688571\tvalidation_0-error:0.372333\tvalidation_1-auc:0.680828\tvalidation_1-error:0.376093\n",
            "[25]\tvalidation_0-auc:0.68985\tvalidation_0-error:0.370743\tvalidation_1-auc:0.682047\tvalidation_1-error:0.374645\n",
            "[26]\tvalidation_0-auc:0.691132\tvalidation_0-error:0.369449\tvalidation_1-auc:0.683003\tvalidation_1-error:0.373519\n",
            "[27]\tvalidation_0-auc:0.69223\tvalidation_0-error:0.368778\tvalidation_1-auc:0.683865\tvalidation_1-error:0.372842\n",
            "[28]\tvalidation_0-auc:0.693714\tvalidation_0-error:0.367982\tvalidation_1-auc:0.685127\tvalidation_1-error:0.372224\n",
            "[29]\tvalidation_0-auc:0.694481\tvalidation_0-error:0.366981\tvalidation_1-auc:0.685712\tvalidation_1-error:0.371318\n",
            "[30]\tvalidation_0-auc:0.695375\tvalidation_0-error:0.366587\tvalidation_1-auc:0.686413\tvalidation_1-error:0.370971\n",
            "[31]\tvalidation_0-auc:0.696427\tvalidation_0-error:0.366033\tvalidation_1-auc:0.687298\tvalidation_1-error:0.37064\n",
            "[32]\tvalidation_0-auc:0.697296\tvalidation_0-error:0.365201\tvalidation_1-auc:0.687984\tvalidation_1-error:0.370166\n",
            "[33]\tvalidation_0-auc:0.697976\tvalidation_0-error:0.364608\tvalidation_1-auc:0.688558\tvalidation_1-error:0.369709\n",
            "[34]\tvalidation_0-auc:0.698888\tvalidation_0-error:0.363886\tvalidation_1-auc:0.689255\tvalidation_1-error:0.369167\n",
            "[35]\tvalidation_0-auc:0.699614\tvalidation_0-error:0.363461\tvalidation_1-auc:0.689877\tvalidation_1-error:0.368608\n",
            "[36]\tvalidation_0-auc:0.701202\tvalidation_0-error:0.362252\tvalidation_1-auc:0.69075\tvalidation_1-error:0.367897\n",
            "[37]\tvalidation_0-auc:0.701738\tvalidation_0-error:0.361888\tvalidation_1-auc:0.6912\tvalidation_1-error:0.367533\n",
            "[38]\tvalidation_0-auc:0.702432\tvalidation_0-error:0.361634\tvalidation_1-auc:0.69158\tvalidation_1-error:0.36711\n",
            "[39]\tvalidation_0-auc:0.704045\tvalidation_0-error:0.361206\tvalidation_1-auc:0.692513\tvalidation_1-error:0.366745\n",
            "[40]\tvalidation_0-auc:0.704895\tvalidation_0-error:0.360552\tvalidation_1-auc:0.693175\tvalidation_1-error:0.366204\n",
            "[41]\tvalidation_0-auc:0.705671\tvalidation_0-error:0.359924\tvalidation_1-auc:0.693717\tvalidation_1-error:0.365814\n",
            "[42]\tvalidation_0-auc:0.706267\tvalidation_0-error:0.359583\tvalidation_1-auc:0.694252\tvalidation_1-error:0.365425\n",
            "[43]\tvalidation_0-auc:0.706894\tvalidation_0-error:0.359183\tvalidation_1-auc:0.694796\tvalidation_1-error:0.365154\n",
            "[44]\tvalidation_0-auc:0.70734\tvalidation_0-error:0.358742\tvalidation_1-auc:0.695168\tvalidation_1-error:0.36473\n",
            "[45]\tvalidation_0-auc:0.708094\tvalidation_0-error:0.358169\tvalidation_1-auc:0.695786\tvalidation_1-error:0.364366\n",
            "[46]\tvalidation_0-auc:0.708785\tvalidation_0-error:0.357608\tvalidation_1-auc:0.696215\tvalidation_1-error:0.364307\n",
            "[47]\tvalidation_0-auc:0.709675\tvalidation_0-error:0.356878\tvalidation_1-auc:0.696918\tvalidation_1-error:0.363502\n",
            "[48]\tvalidation_0-auc:0.710091\tvalidation_0-error:0.356634\tvalidation_1-auc:0.697208\tvalidation_1-error:0.363384\n",
            "[49]\tvalidation_0-auc:0.71056\tvalidation_0-error:0.356247\tvalidation_1-auc:0.697469\tvalidation_1-error:0.363003\n",
            "[50]\tvalidation_0-auc:0.711087\tvalidation_0-error:0.355472\tvalidation_1-auc:0.697903\tvalidation_1-error:0.362639\n",
            "[51]\tvalidation_0-auc:0.711659\tvalidation_0-error:0.355004\tvalidation_1-auc:0.698251\tvalidation_1-error:0.36269\n",
            "[52]\tvalidation_0-auc:0.712107\tvalidation_0-error:0.354835\tvalidation_1-auc:0.698483\tvalidation_1-error:0.362436\n",
            "[53]\tvalidation_0-auc:0.712662\tvalidation_0-error:0.354701\tvalidation_1-auc:0.698996\tvalidation_1-error:0.361902\n",
            "[54]\tvalidation_0-auc:0.713105\tvalidation_0-error:0.353994\tvalidation_1-auc:0.699332\tvalidation_1-error:0.361386\n",
            "[55]\tvalidation_0-auc:0.713856\tvalidation_0-error:0.353596\tvalidation_1-auc:0.699882\tvalidation_1-error:0.361216\n",
            "[56]\tvalidation_0-auc:0.714344\tvalidation_0-error:0.353567\tvalidation_1-auc:0.70022\tvalidation_1-error:0.360937\n",
            "[57]\tvalidation_0-auc:0.714903\tvalidation_0-error:0.353186\tvalidation_1-auc:0.70066\tvalidation_1-error:0.3607\n",
            "[58]\tvalidation_0-auc:0.715506\tvalidation_0-error:0.352538\tvalidation_1-auc:0.701259\tvalidation_1-error:0.360471\n",
            "[59]\tvalidation_0-auc:0.716248\tvalidation_0-error:0.351882\tvalidation_1-auc:0.70166\tvalidation_1-error:0.360276\n",
            "[60]\tvalidation_0-auc:0.716862\tvalidation_0-error:0.35145\tvalidation_1-auc:0.702076\tvalidation_1-error:0.359802\n",
            "[61]\tvalidation_0-auc:0.71759\tvalidation_0-error:0.350891\tvalidation_1-auc:0.702472\tvalidation_1-error:0.359379\n",
            "[62]\tvalidation_0-auc:0.717993\tvalidation_0-error:0.350686\tvalidation_1-auc:0.702717\tvalidation_1-error:0.35904\n",
            "[63]\tvalidation_0-auc:0.718352\tvalidation_0-error:0.350345\tvalidation_1-auc:0.702954\tvalidation_1-error:0.358922\n",
            "[64]\tvalidation_0-auc:0.718827\tvalidation_0-error:0.349936\tvalidation_1-auc:0.703254\tvalidation_1-error:0.358617\n",
            "[65]\tvalidation_0-auc:0.719449\tvalidation_0-error:0.349441\tvalidation_1-auc:0.703537\tvalidation_1-error:0.35827\n",
            "[66]\tvalidation_0-auc:0.720043\tvalidation_0-error:0.348956\tvalidation_1-auc:0.703918\tvalidation_1-error:0.357846\n",
            "[67]\tvalidation_0-auc:0.720547\tvalidation_0-error:0.348571\tvalidation_1-auc:0.704209\tvalidation_1-error:0.357423\n",
            "[68]\tvalidation_0-auc:0.720891\tvalidation_0-error:0.348361\tvalidation_1-auc:0.704501\tvalidation_1-error:0.357474\n",
            "[69]\tvalidation_0-auc:0.721353\tvalidation_0-error:0.347815\tvalidation_1-auc:0.704819\tvalidation_1-error:0.357431\n",
            "[70]\tvalidation_0-auc:0.721688\tvalidation_0-error:0.347597\tvalidation_1-auc:0.704948\tvalidation_1-error:0.357338\n",
            "[71]\tvalidation_0-auc:0.722119\tvalidation_0-error:0.347403\tvalidation_1-auc:0.705117\tvalidation_1-error:0.357431\n",
            "[72]\tvalidation_0-auc:0.722483\tvalidation_0-error:0.34722\tvalidation_1-auc:0.705332\tvalidation_1-error:0.357313\n",
            "[73]\tvalidation_0-auc:0.722799\tvalidation_0-error:0.346964\tvalidation_1-auc:0.705627\tvalidation_1-error:0.357152\n",
            "[74]\tvalidation_0-auc:0.723102\tvalidation_0-error:0.346757\tvalidation_1-auc:0.705918\tvalidation_1-error:0.356889\n",
            "[75]\tvalidation_0-auc:0.723436\tvalidation_0-error:0.346513\tvalidation_1-auc:0.70615\tvalidation_1-error:0.356729\n",
            "[76]\tvalidation_0-auc:0.723831\tvalidation_0-error:0.34627\tvalidation_1-auc:0.706379\tvalidation_1-error:0.356483\n",
            "[77]\tvalidation_0-auc:0.724239\tvalidation_0-error:0.345933\tvalidation_1-auc:0.706635\tvalidation_1-error:0.356415\n",
            "[78]\tvalidation_0-auc:0.724601\tvalidation_0-error:0.345629\tvalidation_1-auc:0.706872\tvalidation_1-error:0.356331\n",
            "[79]\tvalidation_0-auc:0.724859\tvalidation_0-error:0.34537\tvalidation_1-auc:0.707026\tvalidation_1-error:0.356127\n",
            "[80]\tvalidation_0-auc:0.725496\tvalidation_0-error:0.344873\tvalidation_1-auc:0.707318\tvalidation_1-error:0.355865\n",
            "[81]\tvalidation_0-auc:0.725804\tvalidation_0-error:0.344617\tvalidation_1-auc:0.707584\tvalidation_1-error:0.35567\n",
            "[82]\tvalidation_0-auc:0.726305\tvalidation_0-error:0.344172\tvalidation_1-auc:0.707939\tvalidation_1-error:0.35512\n",
            "[83]\tvalidation_0-auc:0.72666\tvalidation_0-error:0.343842\tvalidation_1-auc:0.708105\tvalidation_1-error:0.35484\n",
            "[84]\tvalidation_0-auc:0.726905\tvalidation_0-error:0.343679\tvalidation_1-auc:0.708293\tvalidation_1-error:0.354679\n",
            "[85]\tvalidation_0-auc:0.727373\tvalidation_0-error:0.343378\tvalidation_1-auc:0.708582\tvalidation_1-error:0.354282\n",
            "[86]\tvalidation_0-auc:0.727712\tvalidation_0-error:0.343107\tvalidation_1-auc:0.708805\tvalidation_1-error:0.354188\n",
            "[87]\tvalidation_0-auc:0.728114\tvalidation_0-error:0.342676\tvalidation_1-auc:0.70907\tvalidation_1-error:0.353892\n",
            "[88]\tvalidation_0-auc:0.728425\tvalidation_0-error:0.342515\tvalidation_1-auc:0.709267\tvalidation_1-error:0.353824\n",
            "[89]\tvalidation_0-auc:0.728741\tvalidation_0-error:0.342314\tvalidation_1-auc:0.709451\tvalidation_1-error:0.353782\n",
            "[90]\tvalidation_0-auc:0.728915\tvalidation_0-error:0.342197\tvalidation_1-auc:0.709564\tvalidation_1-error:0.35363\n",
            "[91]\tvalidation_0-auc:0.729307\tvalidation_0-error:0.34177\tvalidation_1-auc:0.709805\tvalidation_1-error:0.353206\n",
            "[92]\tvalidation_0-auc:0.729765\tvalidation_0-error:0.341323\tvalidation_1-auc:0.710026\tvalidation_1-error:0.352859\n",
            "[93]\tvalidation_0-auc:0.729921\tvalidation_0-error:0.341183\tvalidation_1-auc:0.71013\tvalidation_1-error:0.352927\n",
            "[94]\tvalidation_0-auc:0.730134\tvalidation_0-error:0.341065\tvalidation_1-auc:0.710254\tvalidation_1-error:0.352791\n",
            "[95]\tvalidation_0-auc:0.730399\tvalidation_0-error:0.34077\tvalidation_1-auc:0.710365\tvalidation_1-error:0.352613\n",
            "[96]\tvalidation_0-auc:0.73064\tvalidation_0-error:0.340707\tvalidation_1-auc:0.71059\tvalidation_1-error:0.352529\n",
            "[97]\tvalidation_0-auc:0.730968\tvalidation_0-error:0.340406\tvalidation_1-auc:0.710828\tvalidation_1-error:0.352207\n",
            "[98]\tvalidation_0-auc:0.731376\tvalidation_0-error:0.34014\tvalidation_1-auc:0.711096\tvalidation_1-error:0.351758\n",
            "[99]\tvalidation_0-auc:0.731702\tvalidation_0-error:0.339848\tvalidation_1-auc:0.711345\tvalidation_1-error:0.351563\n",
            "[100]\tvalidation_0-auc:0.731995\tvalidation_0-error:0.339602\tvalidation_1-auc:0.711596\tvalidation_1-error:0.351352\n",
            "[101]\tvalidation_0-auc:0.732406\tvalidation_0-error:0.339386\tvalidation_1-auc:0.711841\tvalidation_1-error:0.351242\n",
            "[102]\tvalidation_0-auc:0.7327\tvalidation_0-error:0.339132\tvalidation_1-auc:0.711971\tvalidation_1-error:0.351301\n",
            "[103]\tvalidation_0-auc:0.732919\tvalidation_0-error:0.338825\tvalidation_1-auc:0.712075\tvalidation_1-error:0.351386\n",
            "[104]\tvalidation_0-auc:0.733168\tvalidation_0-error:0.338575\tvalidation_1-auc:0.712204\tvalidation_1-error:0.351115\n",
            "[105]\tvalidation_0-auc:0.733388\tvalidation_0-error:0.338438\tvalidation_1-auc:0.712289\tvalidation_1-error:0.351242\n",
            "[106]\tvalidation_0-auc:0.733845\tvalidation_0-error:0.33805\tvalidation_1-auc:0.712477\tvalidation_1-error:0.351055\n",
            "[107]\tvalidation_0-auc:0.734324\tvalidation_0-error:0.337585\tvalidation_1-auc:0.712701\tvalidation_1-error:0.350937\n",
            "[108]\tvalidation_0-auc:0.734699\tvalidation_0-error:0.337208\tvalidation_1-auc:0.712785\tvalidation_1-error:0.350666\n",
            "[109]\tvalidation_0-auc:0.734855\tvalidation_0-error:0.337174\tvalidation_1-auc:0.712896\tvalidation_1-error:0.350497\n",
            "[110]\tvalidation_0-auc:0.735178\tvalidation_0-error:0.33692\tvalidation_1-auc:0.713108\tvalidation_1-error:0.350344\n",
            "[111]\tvalidation_0-auc:0.735346\tvalidation_0-error:0.336778\tvalidation_1-auc:0.713243\tvalidation_1-error:0.350158\n",
            "[112]\tvalidation_0-auc:0.735527\tvalidation_0-error:0.336609\tvalidation_1-auc:0.713393\tvalidation_1-error:0.350082\n",
            "[113]\tvalidation_0-auc:0.735774\tvalidation_0-error:0.336459\tvalidation_1-auc:0.713609\tvalidation_1-error:0.349946\n",
            "[114]\tvalidation_0-auc:0.735954\tvalidation_0-error:0.33612\tvalidation_1-auc:0.713679\tvalidation_1-error:0.349921\n",
            "[115]\tvalidation_0-auc:0.736198\tvalidation_0-error:0.335942\tvalidation_1-auc:0.713773\tvalidation_1-error:0.349921\n",
            "[116]\tvalidation_0-auc:0.736531\tvalidation_0-error:0.335639\tvalidation_1-auc:0.713902\tvalidation_1-error:0.349853\n",
            "[117]\tvalidation_0-auc:0.736731\tvalidation_0-error:0.335548\tvalidation_1-auc:0.71399\tvalidation_1-error:0.34976\n",
            "[118]\tvalidation_0-auc:0.736938\tvalidation_0-error:0.335425\tvalidation_1-auc:0.71413\tvalidation_1-error:0.349684\n",
            "[119]\tvalidation_0-auc:0.737145\tvalidation_0-error:0.335286\tvalidation_1-auc:0.714259\tvalidation_1-error:0.349523\n",
            "[120]\tvalidation_0-auc:0.737568\tvalidation_0-error:0.335038\tvalidation_1-auc:0.714436\tvalidation_1-error:0.349362\n",
            "[121]\tvalidation_0-auc:0.737798\tvalidation_0-error:0.334822\tvalidation_1-auc:0.714583\tvalidation_1-error:0.349252\n",
            "[122]\tvalidation_0-auc:0.738279\tvalidation_0-error:0.334452\tvalidation_1-auc:0.714834\tvalidation_1-error:0.349125\n",
            "[123]\tvalidation_0-auc:0.738371\tvalidation_0-error:0.334327\tvalidation_1-auc:0.714878\tvalidation_1-error:0.349074\n",
            "[124]\tvalidation_0-auc:0.738619\tvalidation_0-error:0.334206\tvalidation_1-auc:0.714978\tvalidation_1-error:0.349023\n",
            "[125]\tvalidation_0-auc:0.738934\tvalidation_0-error:0.333978\tvalidation_1-auc:0.715041\tvalidation_1-error:0.348905\n",
            "[126]\tvalidation_0-auc:0.739092\tvalidation_0-error:0.333817\tvalidation_1-auc:0.71512\tvalidation_1-error:0.348761\n",
            "[127]\tvalidation_0-auc:0.739279\tvalidation_0-error:0.333645\tvalidation_1-auc:0.715243\tvalidation_1-error:0.348862\n",
            "[128]\tvalidation_0-auc:0.739465\tvalidation_0-error:0.333478\tvalidation_1-auc:0.71536\tvalidation_1-error:0.348617\n",
            "[129]\tvalidation_0-auc:0.739689\tvalidation_0-error:0.333321\tvalidation_1-auc:0.71552\tvalidation_1-error:0.348591\n",
            "[130]\tvalidation_0-auc:0.739914\tvalidation_0-error:0.333108\tvalidation_1-auc:0.71563\tvalidation_1-error:0.348329\n",
            "[131]\tvalidation_0-auc:0.740163\tvalidation_0-error:0.332915\tvalidation_1-auc:0.715729\tvalidation_1-error:0.348075\n",
            "[132]\tvalidation_0-auc:0.74039\tvalidation_0-error:0.332697\tvalidation_1-auc:0.715827\tvalidation_1-error:0.347939\n",
            "[133]\tvalidation_0-auc:0.74059\tvalidation_0-error:0.33257\tvalidation_1-auc:0.715929\tvalidation_1-error:0.347982\n",
            "[134]\tvalidation_0-auc:0.74075\tvalidation_0-error:0.332489\tvalidation_1-auc:0.716018\tvalidation_1-error:0.347804\n",
            "[135]\tvalidation_0-auc:0.740918\tvalidation_0-error:0.332269\tvalidation_1-auc:0.716112\tvalidation_1-error:0.347872\n",
            "[136]\tvalidation_0-auc:0.741198\tvalidation_0-error:0.331964\tvalidation_1-auc:0.71623\tvalidation_1-error:0.347702\n",
            "[137]\tvalidation_0-auc:0.741469\tvalidation_0-error:0.33178\tvalidation_1-auc:0.716355\tvalidation_1-error:0.347812\n",
            "[138]\tvalidation_0-auc:0.741747\tvalidation_0-error:0.331579\tvalidation_1-auc:0.716426\tvalidation_1-error:0.347711\n",
            "[139]\tvalidation_0-auc:0.741946\tvalidation_0-error:0.331425\tvalidation_1-auc:0.716563\tvalidation_1-error:0.347508\n",
            "[140]\tvalidation_0-auc:0.742255\tvalidation_0-error:0.331137\tvalidation_1-auc:0.716752\tvalidation_1-error:0.347465\n",
            "[141]\tvalidation_0-auc:0.742447\tvalidation_0-error:0.331035\tvalidation_1-auc:0.716887\tvalidation_1-error:0.347355\n",
            "[142]\tvalidation_0-auc:0.742696\tvalidation_0-error:0.331035\tvalidation_1-auc:0.717039\tvalidation_1-error:0.347254\n",
            "[143]\tvalidation_0-auc:0.743056\tvalidation_0-error:0.330777\tvalidation_1-auc:0.717254\tvalidation_1-error:0.347254\n",
            "[144]\tvalidation_0-auc:0.743167\tvalidation_0-error:0.330705\tvalidation_1-auc:0.717316\tvalidation_1-error:0.347211\n",
            "[145]\tvalidation_0-auc:0.743389\tvalidation_0-error:0.330379\tvalidation_1-auc:0.717497\tvalidation_1-error:0.346949\n",
            "[146]\tvalidation_0-auc:0.743607\tvalidation_0-error:0.330292\tvalidation_1-auc:0.717665\tvalidation_1-error:0.346805\n",
            "[147]\tvalidation_0-auc:0.743779\tvalidation_0-error:0.330114\tvalidation_1-auc:0.717794\tvalidation_1-error:0.346763\n",
            "[148]\tvalidation_0-auc:0.743896\tvalidation_0-error:0.330034\tvalidation_1-auc:0.717879\tvalidation_1-error:0.34672\n",
            "[149]\tvalidation_0-auc:0.744044\tvalidation_0-error:0.329896\tvalidation_1-auc:0.71796\tvalidation_1-error:0.34672\n",
            "[150]\tvalidation_0-auc:0.744183\tvalidation_0-error:0.329812\tvalidation_1-auc:0.718066\tvalidation_1-error:0.346771\n",
            "[151]\tvalidation_0-auc:0.744446\tvalidation_0-error:0.329638\tvalidation_1-auc:0.718184\tvalidation_1-error:0.346847\n",
            "[152]\tvalidation_0-auc:0.74476\tvalidation_0-error:0.329352\tvalidation_1-auc:0.718289\tvalidation_1-error:0.346771\n",
            "[153]\tvalidation_0-auc:0.744904\tvalidation_0-error:0.329227\tvalidation_1-auc:0.718376\tvalidation_1-error:0.346669\n",
            "[154]\tvalidation_0-auc:0.745055\tvalidation_0-error:0.329092\tvalidation_1-auc:0.718428\tvalidation_1-error:0.346551\n",
            "[155]\tvalidation_0-auc:0.745191\tvalidation_0-error:0.328956\tvalidation_1-auc:0.718527\tvalidation_1-error:0.346483\n",
            "[156]\tvalidation_0-auc:0.745388\tvalidation_0-error:0.328812\tvalidation_1-auc:0.71864\tvalidation_1-error:0.346415\n",
            "[157]\tvalidation_0-auc:0.74565\tvalidation_0-error:0.328694\tvalidation_1-auc:0.718771\tvalidation_1-error:0.346441\n",
            "[158]\tvalidation_0-auc:0.746112\tvalidation_0-error:0.32811\tvalidation_1-auc:0.718942\tvalidation_1-error:0.34606\n",
            "[159]\tvalidation_0-auc:0.746271\tvalidation_0-error:0.328006\tvalidation_1-auc:0.719021\tvalidation_1-error:0.346017\n",
            "[160]\tvalidation_0-auc:0.746512\tvalidation_0-error:0.327796\tvalidation_1-auc:0.719141\tvalidation_1-error:0.345924\n",
            "[161]\tvalidation_0-auc:0.746673\tvalidation_0-error:0.327862\tvalidation_1-auc:0.719197\tvalidation_1-error:0.34589\n",
            "[162]\tvalidation_0-auc:0.747054\tvalidation_0-error:0.327517\tvalidation_1-auc:0.719358\tvalidation_1-error:0.34584\n",
            "[163]\tvalidation_0-auc:0.747217\tvalidation_0-error:0.327401\tvalidation_1-auc:0.719446\tvalidation_1-error:0.34567\n",
            "[164]\tvalidation_0-auc:0.747358\tvalidation_0-error:0.32731\tvalidation_1-auc:0.719503\tvalidation_1-error:0.345569\n",
            "[165]\tvalidation_0-auc:0.747539\tvalidation_0-error:0.327153\tvalidation_1-auc:0.7196\tvalidation_1-error:0.345484\n",
            "[166]\tvalidation_0-auc:0.747776\tvalidation_0-error:0.326905\tvalidation_1-auc:0.719726\tvalidation_1-error:0.345315\n",
            "[167]\tvalidation_0-auc:0.747992\tvalidation_0-error:0.326717\tvalidation_1-auc:0.71982\tvalidation_1-error:0.345255\n",
            "[168]\tvalidation_0-auc:0.748067\tvalidation_0-error:0.326651\tvalidation_1-auc:0.719845\tvalidation_1-error:0.345298\n",
            "[169]\tvalidation_0-auc:0.74832\tvalidation_0-error:0.326317\tvalidation_1-auc:0.719993\tvalidation_1-error:0.345103\n",
            "[170]\tvalidation_0-auc:0.748523\tvalidation_0-error:0.326173\tvalidation_1-auc:0.720098\tvalidation_1-error:0.34495\n",
            "[171]\tvalidation_0-auc:0.748636\tvalidation_0-error:0.326071\tvalidation_1-auc:0.720168\tvalidation_1-error:0.344942\n",
            "[172]\tvalidation_0-auc:0.748879\tvalidation_0-error:0.325724\tvalidation_1-auc:0.720234\tvalidation_1-error:0.344798\n",
            "[173]\tvalidation_0-auc:0.749161\tvalidation_0-error:0.325536\tvalidation_1-auc:0.720334\tvalidation_1-error:0.344696\n",
            "[174]\tvalidation_0-auc:0.74931\tvalidation_0-error:0.325428\tvalidation_1-auc:0.720378\tvalidation_1-error:0.344705\n",
            "[175]\tvalidation_0-auc:0.749451\tvalidation_0-error:0.325267\tvalidation_1-auc:0.720446\tvalidation_1-error:0.344536\n",
            "[176]\tvalidation_0-auc:0.74961\tvalidation_0-error:0.325144\tvalidation_1-auc:0.720542\tvalidation_1-error:0.344426\n",
            "[177]\tvalidation_0-auc:0.749823\tvalidation_0-error:0.324812\tvalidation_1-auc:0.720589\tvalidation_1-error:0.344358\n",
            "[178]\tvalidation_0-auc:0.749937\tvalidation_0-error:0.324687\tvalidation_1-auc:0.72066\tvalidation_1-error:0.344282\n",
            "[179]\tvalidation_0-auc:0.750032\tvalidation_0-error:0.324602\tvalidation_1-auc:0.720731\tvalidation_1-error:0.344222\n",
            "[180]\tvalidation_0-auc:0.750209\tvalidation_0-error:0.324439\tvalidation_1-auc:0.720867\tvalidation_1-error:0.344061\n",
            "[181]\tvalidation_0-auc:0.75033\tvalidation_0-error:0.324399\tvalidation_1-auc:0.720956\tvalidation_1-error:0.344061\n",
            "[182]\tvalidation_0-auc:0.750461\tvalidation_0-error:0.324371\tvalidation_1-auc:0.721024\tvalidation_1-error:0.344036\n",
            "[183]\tvalidation_0-auc:0.750616\tvalidation_0-error:0.32424\tvalidation_1-auc:0.721112\tvalidation_1-error:0.34407\n",
            "[184]\tvalidation_0-auc:0.750776\tvalidation_0-error:0.324162\tvalidation_1-auc:0.721193\tvalidation_1-error:0.344045\n",
            "[185]\tvalidation_0-auc:0.750929\tvalidation_0-error:0.324028\tvalidation_1-auc:0.721306\tvalidation_1-error:0.343875\n",
            "[186]\tvalidation_0-auc:0.75099\tvalidation_0-error:0.323973\tvalidation_1-auc:0.721341\tvalidation_1-error:0.34385\n",
            "[187]\tvalidation_0-auc:0.751161\tvalidation_0-error:0.323878\tvalidation_1-auc:0.721369\tvalidation_1-error:0.343977\n",
            "[188]\tvalidation_0-auc:0.751326\tvalidation_0-error:0.323764\tvalidation_1-auc:0.72146\tvalidation_1-error:0.343934\n",
            "[189]\tvalidation_0-auc:0.751498\tvalidation_0-error:0.323639\tvalidation_1-auc:0.721537\tvalidation_1-error:0.34396\n",
            "[190]\tvalidation_0-auc:0.751619\tvalidation_0-error:0.323586\tvalidation_1-auc:0.721567\tvalidation_1-error:0.343985\n",
            "[191]\tvalidation_0-auc:0.751723\tvalidation_0-error:0.323527\tvalidation_1-auc:0.721604\tvalidation_1-error:0.343943\n",
            "[192]\tvalidation_0-auc:0.751864\tvalidation_0-error:0.323419\tvalidation_1-auc:0.721689\tvalidation_1-error:0.343934\n",
            "[193]\tvalidation_0-auc:0.752139\tvalidation_0-error:0.323161\tvalidation_1-auc:0.721807\tvalidation_1-error:0.34357\n",
            "[194]\tvalidation_0-auc:0.752297\tvalidation_0-error:0.322906\tvalidation_1-auc:0.721864\tvalidation_1-error:0.343528\n",
            "[195]\tvalidation_0-auc:0.752427\tvalidation_0-error:0.322777\tvalidation_1-auc:0.72192\tvalidation_1-error:0.343477\n",
            "[196]\tvalidation_0-auc:0.752589\tvalidation_0-error:0.322659\tvalidation_1-auc:0.721976\tvalidation_1-error:0.343469\n",
            "[197]\tvalidation_0-auc:0.752701\tvalidation_0-error:0.322515\tvalidation_1-auc:0.722013\tvalidation_1-error:0.343452\n",
            "[198]\tvalidation_0-auc:0.752861\tvalidation_0-error:0.322326\tvalidation_1-auc:0.722051\tvalidation_1-error:0.343443\n",
            "[199]\tvalidation_0-auc:0.753152\tvalidation_0-error:0.322123\tvalidation_1-auc:0.722176\tvalidation_1-error:0.343266\n",
            "[200]\tvalidation_0-auc:0.753257\tvalidation_0-error:0.322028\tvalidation_1-auc:0.722262\tvalidation_1-error:0.343172\n",
            "[201]\tvalidation_0-auc:0.753373\tvalidation_0-error:0.321969\tvalidation_1-auc:0.722339\tvalidation_1-error:0.343071\n",
            "[202]\tvalidation_0-auc:0.753531\tvalidation_0-error:0.321785\tvalidation_1-auc:0.722393\tvalidation_1-error:0.343003\n",
            "[203]\tvalidation_0-auc:0.75368\tvalidation_0-error:0.321617\tvalidation_1-auc:0.722474\tvalidation_1-error:0.34302\n",
            "[204]\tvalidation_0-auc:0.753791\tvalidation_0-error:0.321567\tvalidation_1-auc:0.722576\tvalidation_1-error:0.342893\n",
            "[205]\tvalidation_0-auc:0.753959\tvalidation_0-error:0.321404\tvalidation_1-auc:0.722651\tvalidation_1-error:0.342766\n",
            "[206]\tvalidation_0-auc:0.754134\tvalidation_0-error:0.321249\tvalidation_1-auc:0.722734\tvalidation_1-error:0.342724\n",
            "[207]\tvalidation_0-auc:0.75434\tvalidation_0-error:0.321082\tvalidation_1-auc:0.722841\tvalidation_1-error:0.342732\n",
            "[208]\tvalidation_0-auc:0.754493\tvalidation_0-error:0.320927\tvalidation_1-auc:0.722902\tvalidation_1-error:0.342546\n",
            "[209]\tvalidation_0-auc:0.754556\tvalidation_0-error:0.3209\tvalidation_1-auc:0.722972\tvalidation_1-error:0.342495\n",
            "[210]\tvalidation_0-auc:0.754694\tvalidation_0-error:0.320832\tvalidation_1-auc:0.723074\tvalidation_1-error:0.342334\n",
            "[211]\tvalidation_0-auc:0.75477\tvalidation_0-error:0.320826\tvalidation_1-auc:0.723137\tvalidation_1-error:0.3423\n",
            "[212]\tvalidation_0-auc:0.754914\tvalidation_0-error:0.32073\tvalidation_1-auc:0.723213\tvalidation_1-error:0.34219\n",
            "[213]\tvalidation_0-auc:0.754991\tvalidation_0-error:0.320688\tvalidation_1-auc:0.723263\tvalidation_1-error:0.34219\n",
            "[214]\tvalidation_0-auc:0.755129\tvalidation_0-error:0.320514\tvalidation_1-auc:0.723334\tvalidation_1-error:0.342114\n",
            "[215]\tvalidation_0-auc:0.755174\tvalidation_0-error:0.32047\tvalidation_1-auc:0.723361\tvalidation_1-error:0.342089\n",
            "[216]\tvalidation_0-auc:0.755266\tvalidation_0-error:0.320387\tvalidation_1-auc:0.723413\tvalidation_1-error:0.342097\n",
            "[217]\tvalidation_0-auc:0.755545\tvalidation_0-error:0.320083\tvalidation_1-auc:0.723418\tvalidation_1-error:0.341945\n",
            "[218]\tvalidation_0-auc:0.755743\tvalidation_0-error:0.319905\tvalidation_1-auc:0.723521\tvalidation_1-error:0.341631\n",
            "[219]\tvalidation_0-auc:0.755948\tvalidation_0-error:0.31975\tvalidation_1-auc:0.723652\tvalidation_1-error:0.341547\n",
            "[220]\tvalidation_0-auc:0.756082\tvalidation_0-error:0.319666\tvalidation_1-auc:0.723763\tvalidation_1-error:0.341369\n",
            "[221]\tvalidation_0-auc:0.756253\tvalidation_0-error:0.319471\tvalidation_1-auc:0.72375\tvalidation_1-error:0.34142\n",
            "[222]\tvalidation_0-auc:0.756437\tvalidation_0-error:0.319302\tvalidation_1-auc:0.723835\tvalidation_1-error:0.34131\n",
            "[223]\tvalidation_0-auc:0.756632\tvalidation_0-error:0.319253\tvalidation_1-auc:0.723906\tvalidation_1-error:0.34114\n",
            "[224]\tvalidation_0-auc:0.756789\tvalidation_0-error:0.319164\tvalidation_1-auc:0.723962\tvalidation_1-error:0.341132\n",
            "[225]\tvalidation_0-auc:0.756986\tvalidation_0-error:0.318933\tvalidation_1-auc:0.724044\tvalidation_1-error:0.341115\n",
            "[226]\tvalidation_0-auc:0.757066\tvalidation_0-error:0.318912\tvalidation_1-auc:0.724102\tvalidation_1-error:0.341081\n",
            "[227]\tvalidation_0-auc:0.757183\tvalidation_0-error:0.318806\tvalidation_1-auc:0.724201\tvalidation_1-error:0.34103\n",
            "[228]\tvalidation_0-auc:0.757291\tvalidation_0-error:0.318762\tvalidation_1-auc:0.724263\tvalidation_1-error:0.341081\n",
            "[229]\tvalidation_0-auc:0.757467\tvalidation_0-error:0.318609\tvalidation_1-auc:0.724353\tvalidation_1-error:0.340895\n",
            "[230]\tvalidation_0-auc:0.757573\tvalidation_0-error:0.318539\tvalidation_1-auc:0.724405\tvalidation_1-error:0.340844\n",
            "[231]\tvalidation_0-auc:0.7577\tvalidation_0-error:0.31834\tvalidation_1-auc:0.724497\tvalidation_1-error:0.340658\n",
            "[232]\tvalidation_0-auc:0.757801\tvalidation_0-error:0.318184\tvalidation_1-auc:0.724525\tvalidation_1-error:0.340683\n",
            "[233]\tvalidation_0-auc:0.757892\tvalidation_0-error:0.31815\tvalidation_1-auc:0.724578\tvalidation_1-error:0.34059\n",
            "[234]\tvalidation_0-auc:0.757958\tvalidation_0-error:0.318097\tvalidation_1-auc:0.724613\tvalidation_1-error:0.340556\n",
            "[235]\tvalidation_0-auc:0.75809\tvalidation_0-error:0.317972\tvalidation_1-auc:0.724687\tvalidation_1-error:0.340522\n",
            "[236]\tvalidation_0-auc:0.758246\tvalidation_0-error:0.31776\tvalidation_1-auc:0.724743\tvalidation_1-error:0.340539\n",
            "[237]\tvalidation_0-auc:0.758391\tvalidation_0-error:0.317688\tvalidation_1-auc:0.724842\tvalidation_1-error:0.340302\n",
            "[238]\tvalidation_0-auc:0.758524\tvalidation_0-error:0.317538\tvalidation_1-auc:0.724899\tvalidation_1-error:0.34037\n",
            "[239]\tvalidation_0-auc:0.758629\tvalidation_0-error:0.317498\tvalidation_1-auc:0.724965\tvalidation_1-error:0.3402\n",
            "[240]\tvalidation_0-auc:0.758737\tvalidation_0-error:0.317415\tvalidation_1-auc:0.725006\tvalidation_1-error:0.3402\n",
            "[241]\tvalidation_0-auc:0.758816\tvalidation_0-error:0.317337\tvalidation_1-auc:0.725061\tvalidation_1-error:0.340234\n",
            "[242]\tvalidation_0-auc:0.75903\tvalidation_0-error:0.317032\tvalidation_1-auc:0.725129\tvalidation_1-error:0.34037\n",
            "[243]\tvalidation_0-auc:0.759141\tvalidation_0-error:0.316973\tvalidation_1-auc:0.725185\tvalidation_1-error:0.340277\n",
            "[244]\tvalidation_0-auc:0.759244\tvalidation_0-error:0.316882\tvalidation_1-auc:0.725221\tvalidation_1-error:0.340378\n",
            "[245]\tvalidation_0-auc:0.759386\tvalidation_0-error:0.316799\tvalidation_1-auc:0.725239\tvalidation_1-error:0.340361\n",
            "[246]\tvalidation_0-auc:0.759526\tvalidation_0-error:0.316696\tvalidation_1-auc:0.725287\tvalidation_1-error:0.340387\n",
            "[247]\tvalidation_0-auc:0.759618\tvalidation_0-error:0.316668\tvalidation_1-auc:0.725369\tvalidation_1-error:0.340454\n",
            "[248]\tvalidation_0-auc:0.759748\tvalidation_0-error:0.316488\tvalidation_1-auc:0.72545\tvalidation_1-error:0.34037\n",
            "[249]\tvalidation_0-auc:0.759882\tvalidation_0-error:0.316393\tvalidation_1-auc:0.725554\tvalidation_1-error:0.340387\n",
            "Stopping. Best iteration:\n",
            "[239]\tvalidation_0-auc:0.758629\tvalidation_0-error:0.317498\tvalidation_1-auc:0.724965\tvalidation_1-error:0.3402\n",
            "\n",
            "CPU times: user 39min 28s, sys: 1.16 s, total: 39min 29s\n",
            "Wall time: 39min 36s\n"
          ],
          "name": "stdout"
        },
        {
          "output_type": "execute_result",
          "data": {
            "text/plain": [
              "XGBClassifier(base_score=0.5, booster='gbtree', colsample_bylevel=1,\n",
              "              colsample_bynode=1, colsample_bytree=1, gamma=0,\n",
              "              learning_rate=0.1, max_delta_step=0, max_depth=10,\n",
              "              min_child_weight=1, missing=None, n_estimators=500, n_jobs=1,\n",
              "              nthread=None, objective='binary:logistic', random_state=2,\n",
              "              reg_alpha=0, reg_lambda=1, scale_pos_weight=1, seed=None,\n",
              "              silent=None, subsample=1, verbosity=1)"
            ]
          },
          "metadata": {
            "tags": []
          },
          "execution_count": 27
        }
      ]
    },
    {
      "cell_type": "code",
      "metadata": {
        "id": "X-8oDuINq0NF",
        "colab_type": "code",
        "colab": {
          "base_uri": "https://localhost:8080/",
          "height": 313
        },
        "outputId": "cae3e28d-b69c-4870-f49c-46265aafd700"
      },
      "source": [
        "plot_importance(xgb)"
      ],
      "execution_count": 24,
      "outputs": [
        {
          "output_type": "execute_result",
          "data": {
            "text/plain": [
              "<matplotlib.axes._subplots.AxesSubplot at 0x7f16751d9080>"
            ]
          },
          "metadata": {
            "tags": []
          },
          "execution_count": 24
        },
        {
          "output_type": "display_data",
          "data": {
            "image/png": "[encoded data removed]",
            "text/plain": [
              "<Figure size 432x288 with 1 Axes>"
            ]
          },
          "metadata": {
            "tags": [],
            "needs_background": "light"
          }
        }
      ]
    },
    {
      "cell_type": "code",
      "metadata": {
        "id": "qarJukFQtZwz",
        "colab_type": "code",
        "colab": {
          "base_uri": "https://localhost:8080/",
          "height": 545
        },
        "outputId": "f0735905-e985-42b4-8420-37150db20ee8"
      },
      "source": [
        "results = xgb.evals_result()\n",
        "epochs = len(results['validation_0']['error'])\n",
        "x_axis = range(0, epochs)\n",
        "# plot auc\n",
        "fig, ax = plt.subplots()\n",
        "ax.plot(x_axis, results['validation_0']['auc'], label='Train')\n",
        "ax.plot(x_axis, results['validation_1']['auc'], label='Validation')\n",
        "ax.legend()\n",
        "plt.ylabel('AUC')\n",
        "plt.title('XGBoost AUC')\n",
        "plt.show()\n",
        "# plot classification error\n",
        "fig, ax = plt.subplots()\n",
        "ax.plot(x_axis, results['validation_0']['error'], label='Train')\n",
        "ax.plot(x_axis, results['validation_1']['error'], label='Validation')\n",
        "ax.legend()\n",
        "plt.ylabel('Classification Error')\n",
        "plt.title('XGBoost Classification Error')\n",
        "plt.show()"
      ],
      "execution_count": 28,
      "outputs": [
        {
          "output_type": "display_data",
          "data": {
            "image/png": "[encoded data removed]",
            "text/plain": [
              "<Figure size 432x288 with 1 Axes>"
            ]
          },
          "metadata": {
            "tags": [],
            "needs_background": "light"
          }
        },
        {
          "output_type": "display_data",
          "data": {
            "image/png": "[encoded data removed]",
            "text/plain": [
              "<Figure size 432x288 with 1 Axes>"
            ]
          },
          "metadata": {
            "tags": [],
            "needs_background": "light"
          }
        }
      ]
    },
    {
      "cell_type": "markdown",
      "metadata": {
        "id": "OiWmwWdRAigg",
        "colab_type": "text"
      },
      "source": [
        "# Bayesian Algorithms"
      ]
    },
    {
      "cell_type": "code",
      "metadata": {
        "id": "tCrC-9u_FSCi",
        "colab_type": "code",
        "colab": {}
      },
      "source": [
        "from sklearn.naive_bayes import MultinomialNB"
      ],
      "execution_count": 0,
      "outputs": []
    },
    {
      "cell_type": "code",
      "metadata": {
        "id": "XfR8Yut7AioQ",
        "colab_type": "code",
        "outputId": "20e06c27-fe9d-4605-d758-a434fc3c978d",
        "colab": {
          "base_uri": "https://localhost:8080/",
          "height": 52
        }
      },
      "source": [
        "# Naive Bayes Multinomial Model\n",
        "\n",
        "nb = MultinomialNB()\n",
        "nb.fit(X_train_dtm, y_train)\n",
        "y_pred_class = nb.predict(X_val_dtm)\n",
        "\n",
        "# Get the training accuracy\n",
        "print('Training Accuracy: ', metrics.accuracy_score(y_train, nb.predict(X_train_dtm)))\n",
        "# print the accuracy of its predictions\n",
        "print('Validation Accuracy: ', metrics.accuracy_score(y_val, y_pred_class))"
      ],
      "execution_count": 0,
      "outputs": [
        {
          "output_type": "stream",
          "text": [
            "Training Accuracy:  0.7575163578554751\n",
            "Validation Accuracy:  0.7148118982904463\n"
          ],
          "name": "stdout"
        }
      ]
    },
    {
      "cell_type": "markdown",
      "metadata": {
        "id": "StcKCx8NA4TE",
        "colab_type": "text"
      },
      "source": [
        "# Regression Algorithms"
      ]
    },
    {
      "cell_type": "code",
      "metadata": {
        "id": "MHiQwDlgFRRa",
        "colab_type": "code",
        "colab": {}
      },
      "source": [
        "from sklearn.linear_model import LogisticRegression"
      ],
      "execution_count": 0,
      "outputs": []
    },
    {
      "cell_type": "code",
      "metadata": {
        "id": "xJCEmO2TAi3w",
        "colab_type": "code",
        "outputId": "a7bc26fa-7b69-49bd-de56-ecd9e9eb09d4",
        "colab": {
          "base_uri": "https://localhost:8080/",
          "height": 191
        }
      },
      "source": [
        "# Logistic Regression\n",
        "\n",
        "logreg = LogisticRegression()\n",
        "logreg.fit(X_train_dtm, y_train)\n",
        "score = logreg.score(X_val_dtm, y_val)\n",
        "\n",
        "print(\"Training Accuracy: \", logreg.score(X_train_dtm, y_train))\n",
        "print(\"Validation Accuracy:\", score)"
      ],
      "execution_count": 0,
      "outputs": [
        {
          "output_type": "stream",
          "text": [
            "Training Accuracy:  0.7616272546956729\n",
            "Validation Accuracy: 0.7312131141988637\n"
          ],
          "name": "stdout"
        },
        {
          "output_type": "stream",
          "text": [
            "/usr/local/lib/python3.6/dist-packages/sklearn/linear_model/_logistic.py:940: ConvergenceWarning: lbfgs failed to converge (status=1):\n",
            "STOP: TOTAL NO. of ITERATIONS REACHED LIMIT.\n",
            "\n",
            "Increase the number of iterations (max_iter) or scale the data as shown in:\n",
            "    https://scikit-learn.org/stable/modules/preprocessing.html\n",
            "Please also refer to the documentation for alternative solver options:\n",
            "    https://scikit-learn.org/stable/modules/linear_model.html#logistic-regression\n",
            "  extra_warning_msg=_LOGISTIC_SOLVER_CONVERGENCE_MSG)\n"
          ],
          "name": "stderr"
        }
      ]
    },
    {
      "cell_type": "markdown",
      "metadata": {
        "id": "8tcogM5z0-2U",
        "colab_type": "text"
      },
      "source": [
        "# Predicting on Twitter dataset"
      ]
    },
    {
      "cell_type": "code",
      "metadata": {
        "id": "kzI0CHde0_Pf",
        "colab_type": "code",
        "colab": {
          "base_uri": "https://localhost:8080/",
          "height": 35
        },
        "outputId": "1b85cecf-8a55-4094-aead-9d36526ad701"
      },
      "source": [
        "twitter_path = '/content/drive/My Drive/BT4222/Data/cust_tweets.csv'\n",
        "\n",
        "tweets = pd.read_csv(twitter_path)\n",
        "tweets.shape"
      ],
      "execution_count": 34,
      "outputs": [
        {
          "output_type": "execute_result",
          "data": {
            "text/plain": [
              "(7643, 8)"
            ]
          },
          "metadata": {
            "tags": []
          },
          "execution_count": 34
        }
      ]
    },
    {
      "cell_type": "code",
      "metadata": {
        "colab_type": "code",
        "outputId": "94888a63-dad0-4c30-8a60-35bc9db225df",
        "id": "gS5-YEX_168X",
        "colab": {
          "base_uri": "https://localhost:8080/",
          "height": 35
        }
      },
      "source": [
        "# tokenize to remove handles and some noises from \"extended\" words like \"wayyyyyyyyyyyy\"\n",
        "cust = tweets.copy()\n",
        "\n",
        "cust.drop(['Unnamed: 0', 'tweet_id', 'inbound', 'authod_id', 'created_at', 'in_response_to_tweet_id'], axis=1, inplace=True)\n",
        "cust.shape"
      ],
      "execution_count": 35,
      "outputs": [
        {
          "output_type": "execute_result",
          "data": {
            "text/plain": [
              "(7643, 2)"
            ]
          },
          "metadata": {
            "tags": []
          },
          "execution_count": 35
        }
      ]
    },
    {
      "cell_type": "code",
      "metadata": {
        "colab_type": "code",
        "outputId": "416ac053-b4df-40d4-a4a2-dca22a373106",
        "id": "TnEVVADC168e",
        "colab": {
          "base_uri": "https://localhost:8080/",
          "height": 35
        }
      },
      "source": [
        "cust.columns"
      ],
      "execution_count": 36,
      "outputs": [
        {
          "output_type": "execute_result",
          "data": {
            "text/plain": [
              "Index(['text', 'customers_of'], dtype='object')"
            ]
          },
          "metadata": {
            "tags": []
          },
          "execution_count": 36
        }
      ]
    },
    {
      "cell_type": "code",
      "metadata": {
        "colab_type": "code",
        "id": "zR7rZAxG168j",
        "colab": {}
      },
      "source": [
        "cust[\"processed\"] = cust.text.apply(tknzr.tokenize)"
      ],
      "execution_count": 0,
      "outputs": []
    },
    {
      "cell_type": "code",
      "metadata": {
        "colab_type": "code",
        "outputId": "e48d1047-d8b7-4b74-9ec1-0761aaa2139a",
        "id": "_siaz1XD168m",
        "colab": {
          "base_uri": "https://localhost:8080/",
          "height": 202
        }
      },
      "source": [
        "cust['processed'] = cust.processed.apply(lambda x: [lem.lemmatize(j) for j in x])\n",
        "\n",
        "cust.head()"
      ],
      "execution_count": 38,
      "outputs": [
        {
          "output_type": "execute_result",
          "data": {
            "text/html": [
              "<div>\n",
              "<style scoped>\n",
              "    .dataframe tbody tr th:only-of-type {\n",
              "        vertical-align: middle;\n",
              "    }\n",
              "\n",
              "    .dataframe tbody tr th {\n",
              "        vertical-align: top;\n",
              "    }\n",
              "\n",
              "    .dataframe thead th {\n",
              "        text-align: right;\n",
              "    }\n",
              "</style>\n",
              "<table border=\"1\" class=\"dataframe\">\n",
              "  <thead>\n",
              "    <tr style=\"text-align: right;\">\n",
              "      <th></th>\n",
              "      <th>text</th>\n",
              "      <th>customers_of</th>\n",
              "      <th>processed</th>\n",
              "    </tr>\n",
              "  </thead>\n",
              "  <tbody>\n",
              "    <tr>\n",
              "      <th>0</th>\n",
              "      <td>@Jetstar_Asia Please check your DM. Thanks @Je...</td>\n",
              "      <td>JetStar Asia</td>\n",
              "      <td>[Please, check, your, DM, ., Thanks]</td>\n",
              "    </tr>\n",
              "    <tr>\n",
              "      <th>1</th>\n",
              "      <td>@Jetstar_Asia Pleas help me. I have also tried...</td>\n",
              "      <td>JetStar Asia</td>\n",
              "      <td>[Pleas, help, me, ., I, have, also, tried, cal...</td>\n",
              "    </tr>\n",
              "    <tr>\n",
              "      <th>2</th>\n",
              "      <td>RT @monilsj: Hi @Jetstar_Asia! I have noticed ...</td>\n",
              "      <td>JetStar Asia</td>\n",
              "      <td>[RT, :, Hi, !, I, have, noticed, that, Air, As...</td>\n",
              "    </tr>\n",
              "    <tr>\n",
              "      <th>3</th>\n",
              "      <td>Hi @Jetstar_Asia! I have noticed that Air Asia...</td>\n",
              "      <td>JetStar Asia</td>\n",
              "      <td>[Hi, !, I, have, noticed, that, Air, Asia, and...</td>\n",
              "    </tr>\n",
              "    <tr>\n",
              "      <th>4</th>\n",
              "      <td>RT @RayMSLim: @Jetstar_Asia why do you make it...</td>\n",
              "      <td>JetStar Asia</td>\n",
              "      <td>[RT, :, why, do, you, make, it, so, difficult,...</td>\n",
              "    </tr>\n",
              "  </tbody>\n",
              "</table>\n",
              "</div>"
            ],
            "text/plain": [
              "                                                text  ...                                          processed\n",
              "0  @Jetstar_Asia Please check your DM. Thanks @Je...  ...               [Please, check, your, DM, ., Thanks]\n",
              "1  @Jetstar_Asia Pleas help me. I have also tried...  ...  [Pleas, help, me, ., I, have, also, tried, cal...\n",
              "2  RT @monilsj: Hi @Jetstar_Asia! I have noticed ...  ...  [RT, :, Hi, !, I, have, noticed, that, Air, As...\n",
              "3  Hi @Jetstar_Asia! I have noticed that Air Asia...  ...  [Hi, !, I, have, noticed, that, Air, Asia, and...\n",
              "4  RT @RayMSLim: @Jetstar_Asia why do you make it...  ...  [RT, :, why, do, you, make, it, so, difficult,...\n",
              "\n",
              "[5 rows x 3 columns]"
            ]
          },
          "metadata": {
            "tags": []
          },
          "execution_count": 38
        }
      ]
    },
    {
      "cell_type": "code",
      "metadata": {
        "colab_type": "code",
        "outputId": "e066f74a-ea19-4e3f-adaa-0ff4146a6083",
        "id": "ECAtQ4o3168r",
        "colab": {
          "base_uri": "https://localhost:8080/",
          "height": 202
        }
      },
      "source": [
        "cust.processed = cust.processed.apply(lambda x: ' '.join(x))\n",
        "\n",
        "cust.head()"
      ],
      "execution_count": 39,
      "outputs": [
        {
          "output_type": "execute_result",
          "data": {
            "text/html": [
              "<div>\n",
              "<style scoped>\n",
              "    .dataframe tbody tr th:only-of-type {\n",
              "        vertical-align: middle;\n",
              "    }\n",
              "\n",
              "    .dataframe tbody tr th {\n",
              "        vertical-align: top;\n",
              "    }\n",
              "\n",
              "    .dataframe thead th {\n",
              "        text-align: right;\n",
              "    }\n",
              "</style>\n",
              "<table border=\"1\" class=\"dataframe\">\n",
              "  <thead>\n",
              "    <tr style=\"text-align: right;\">\n",
              "      <th></th>\n",
              "      <th>text</th>\n",
              "      <th>customers_of</th>\n",
              "      <th>processed</th>\n",
              "    </tr>\n",
              "  </thead>\n",
              "  <tbody>\n",
              "    <tr>\n",
              "      <th>0</th>\n",
              "      <td>@Jetstar_Asia Please check your DM. Thanks @Je...</td>\n",
              "      <td>JetStar Asia</td>\n",
              "      <td>Please check your DM . Thanks</td>\n",
              "    </tr>\n",
              "    <tr>\n",
              "      <th>1</th>\n",
              "      <td>@Jetstar_Asia Pleas help me. I have also tried...</td>\n",
              "      <td>JetStar Asia</td>\n",
              "      <td>Pleas help me . I have also tried calling seve...</td>\n",
              "    </tr>\n",
              "    <tr>\n",
              "      <th>2</th>\n",
              "      <td>RT @monilsj: Hi @Jetstar_Asia! I have noticed ...</td>\n",
              "      <td>JetStar Asia</td>\n",
              "      <td>RT : Hi ! I have noticed that Air Asia and mor...</td>\n",
              "    </tr>\n",
              "    <tr>\n",
              "      <th>3</th>\n",
              "      <td>Hi @Jetstar_Asia! I have noticed that Air Asia...</td>\n",
              "      <td>JetStar Asia</td>\n",
              "      <td>Hi ! I have noticed that Air Asia and more rec...</td>\n",
              "    </tr>\n",
              "    <tr>\n",
              "      <th>4</th>\n",
              "      <td>RT @RayMSLim: @Jetstar_Asia why do you make it...</td>\n",
              "      <td>JetStar Asia</td>\n",
              "      <td>RT : why do you make it so difficult to apply ...</td>\n",
              "    </tr>\n",
              "  </tbody>\n",
              "</table>\n",
              "</div>"
            ],
            "text/plain": [
              "                                                text  ...                                          processed\n",
              "0  @Jetstar_Asia Please check your DM. Thanks @Je...  ...                      Please check your DM . Thanks\n",
              "1  @Jetstar_Asia Pleas help me. I have also tried...  ...  Pleas help me . I have also tried calling seve...\n",
              "2  RT @monilsj: Hi @Jetstar_Asia! I have noticed ...  ...  RT : Hi ! I have noticed that Air Asia and mor...\n",
              "3  Hi @Jetstar_Asia! I have noticed that Air Asia...  ...  Hi ! I have noticed that Air Asia and more rec...\n",
              "4  RT @RayMSLim: @Jetstar_Asia why do you make it...  ...  RT : why do you make it so difficult to apply ...\n",
              "\n",
              "[5 rows x 3 columns]"
            ]
          },
          "metadata": {
            "tags": []
          },
          "execution_count": 39
        }
      ]
    },
    {
      "cell_type": "code",
      "metadata": {
        "colab_type": "code",
        "outputId": "820cfa3f-9f51-4fb7-ab59-6fc50977960d",
        "id": "GK4wsvNN168w",
        "colab": {
          "base_uri": "https://localhost:8080/",
          "height": 202
        }
      },
      "source": [
        "# removing punctuation (reference: https://stackoverflow.com/questions/265960/best-way-to-strip-punctuation-from-a-string)\n",
        "\n",
        "cust[\"processed\"] = cust.processed.apply(lambda x: x.translate(str.maketrans('', '', string.punctuation)))\n",
        "cust.head()"
      ],
      "execution_count": 40,
      "outputs": [
        {
          "output_type": "execute_result",
          "data": {
            "text/html": [
              "<div>\n",
              "<style scoped>\n",
              "    .dataframe tbody tr th:only-of-type {\n",
              "        vertical-align: middle;\n",
              "    }\n",
              "\n",
              "    .dataframe tbody tr th {\n",
              "        vertical-align: top;\n",
              "    }\n",
              "\n",
              "    .dataframe thead th {\n",
              "        text-align: right;\n",
              "    }\n",
              "</style>\n",
              "<table border=\"1\" class=\"dataframe\">\n",
              "  <thead>\n",
              "    <tr style=\"text-align: right;\">\n",
              "      <th></th>\n",
              "      <th>text</th>\n",
              "      <th>customers_of</th>\n",
              "      <th>processed</th>\n",
              "    </tr>\n",
              "  </thead>\n",
              "  <tbody>\n",
              "    <tr>\n",
              "      <th>0</th>\n",
              "      <td>@Jetstar_Asia Please check your DM. Thanks @Je...</td>\n",
              "      <td>JetStar Asia</td>\n",
              "      <td>Please check your DM  Thanks</td>\n",
              "    </tr>\n",
              "    <tr>\n",
              "      <th>1</th>\n",
              "      <td>@Jetstar_Asia Pleas help me. I have also tried...</td>\n",
              "      <td>JetStar Asia</td>\n",
              "      <td>Pleas help me  I have also tried calling sever...</td>\n",
              "    </tr>\n",
              "    <tr>\n",
              "      <th>2</th>\n",
              "      <td>RT @monilsj: Hi @Jetstar_Asia! I have noticed ...</td>\n",
              "      <td>JetStar Asia</td>\n",
              "      <td>RT  Hi  I have noticed that Air Asia and more ...</td>\n",
              "    </tr>\n",
              "    <tr>\n",
              "      <th>3</th>\n",
              "      <td>Hi @Jetstar_Asia! I have noticed that Air Asia...</td>\n",
              "      <td>JetStar Asia</td>\n",
              "      <td>Hi  I have noticed that Air Asia and more rece...</td>\n",
              "    </tr>\n",
              "    <tr>\n",
              "      <th>4</th>\n",
              "      <td>RT @RayMSLim: @Jetstar_Asia why do you make it...</td>\n",
              "      <td>JetStar Asia</td>\n",
              "      <td>RT  why do you make it so difficult to apply f...</td>\n",
              "    </tr>\n",
              "  </tbody>\n",
              "</table>\n",
              "</div>"
            ],
            "text/plain": [
              "                                                text  ...                                          processed\n",
              "0  @Jetstar_Asia Please check your DM. Thanks @Je...  ...                       Please check your DM  Thanks\n",
              "1  @Jetstar_Asia Pleas help me. I have also tried...  ...  Pleas help me  I have also tried calling sever...\n",
              "2  RT @monilsj: Hi @Jetstar_Asia! I have noticed ...  ...  RT  Hi  I have noticed that Air Asia and more ...\n",
              "3  Hi @Jetstar_Asia! I have noticed that Air Asia...  ...  Hi  I have noticed that Air Asia and more rece...\n",
              "4  RT @RayMSLim: @Jetstar_Asia why do you make it...  ...  RT  why do you make it so difficult to apply f...\n",
              "\n",
              "[5 rows x 3 columns]"
            ]
          },
          "metadata": {
            "tags": []
          },
          "execution_count": 40
        }
      ]
    },
    {
      "cell_type": "code",
      "metadata": {
        "colab_type": "code",
        "outputId": "b4abfc6b-f837-4633-d9f6-7f90a9509aa4",
        "id": "X-bPeWMU1681",
        "colab": {
          "base_uri": "https://localhost:8080/",
          "height": 35
        }
      },
      "source": [
        "# fit and/or transforming to training set\n",
        "\n",
        "# fit and transform X_train\n",
        "X_test = cv.transform(cust.processed)\n",
        "\n",
        "X_test.shape"
      ],
      "execution_count": 41,
      "outputs": [
        {
          "output_type": "execute_result",
          "data": {
            "text/plain": [
              "(7643, 223877)"
            ]
          },
          "metadata": {
            "tags": []
          },
          "execution_count": 41
        }
      ]
    },
    {
      "cell_type": "markdown",
      "metadata": {
        "id": "xvLsBTdb2tNv",
        "colab_type": "text"
      },
      "source": [
        "### Using XGBoost to predict"
      ]
    },
    {
      "cell_type": "code",
      "metadata": {
        "id": "lwpyDwRK1o04",
        "colab_type": "code",
        "colab": {}
      },
      "source": [
        "xgb_pred = xgb.predict(X_test)\n",
        "\n",
        "xgb_pred = pd.DataFrame(xgb_pred, columns=['label'])"
      ],
      "execution_count": 0,
      "outputs": []
    },
    {
      "cell_type": "code",
      "metadata": {
        "id": "PHxOPGN_3UdK",
        "colab_type": "code",
        "colab": {
          "base_uri": "https://localhost:8080/",
          "height": 202
        },
        "outputId": "990b166b-367b-4fe9-97ca-d0b06c9c4627"
      },
      "source": [
        "xgb_pred.head()"
      ],
      "execution_count": 49,
      "outputs": [
        {
          "output_type": "execute_result",
          "data": {
            "text/html": [
              "<div>\n",
              "<style scoped>\n",
              "    .dataframe tbody tr th:only-of-type {\n",
              "        vertical-align: middle;\n",
              "    }\n",
              "\n",
              "    .dataframe tbody tr th {\n",
              "        vertical-align: top;\n",
              "    }\n",
              "\n",
              "    .dataframe thead th {\n",
              "        text-align: right;\n",
              "    }\n",
              "</style>\n",
              "<table border=\"1\" class=\"dataframe\">\n",
              "  <thead>\n",
              "    <tr style=\"text-align: right;\">\n",
              "      <th></th>\n",
              "      <th>label</th>\n",
              "    </tr>\n",
              "  </thead>\n",
              "  <tbody>\n",
              "    <tr>\n",
              "      <th>0</th>\n",
              "      <td>0</td>\n",
              "    </tr>\n",
              "    <tr>\n",
              "      <th>1</th>\n",
              "      <td>0</td>\n",
              "    </tr>\n",
              "    <tr>\n",
              "      <th>2</th>\n",
              "      <td>1</td>\n",
              "    </tr>\n",
              "    <tr>\n",
              "      <th>3</th>\n",
              "      <td>1</td>\n",
              "    </tr>\n",
              "    <tr>\n",
              "      <th>4</th>\n",
              "      <td>0</td>\n",
              "    </tr>\n",
              "  </tbody>\n",
              "</table>\n",
              "</div>"
            ],
            "text/plain": [
              "   label\n",
              "0      0\n",
              "1      0\n",
              "2      1\n",
              "3      1\n",
              "4      0"
            ]
          },
          "metadata": {
            "tags": []
          },
          "execution_count": 49
        }
      ]
    },
    {
      "cell_type": "code",
      "metadata": {
        "id": "6YmFTxgL2zvD",
        "colab_type": "code",
        "colab": {}
      },
      "source": [
        "from google.colab import files\n",
        "\n",
        "# to download the csv\n",
        "xgb_pred.to_csv('xgb_pred.csv')\n",
        "files.download('xgb_pred.csv')"
      ],
      "execution_count": 0,
      "outputs": []
    },
    {
      "cell_type": "markdown",
      "metadata": {
        "id": "hUI1BmcWzZxf",
        "colab_type": "text"
      },
      "source": [
        "# Extra Stuff"
      ]
    },
    {
      "cell_type": "code",
      "metadata": {
        "id": "QYEAmi_CNsLF",
        "colab_type": "code",
        "outputId": "a2fe95da-a801-4e94-ae01-44ca656b3e3a",
        "colab": {
          "resources": {
            "http://localhost:8080/nbextensions/google.colab/files.js": {
              "data": "Ly8gQ29weXJpZ2h0IDIwMTcgR29vZ2xlIExMQwovLwovLyBMaWNlbnNlZCB1bmRlciB0aGUgQXBhY2hlIExpY2Vuc2UsIFZlcnNpb24gMi4wICh0aGUgIkxpY2Vuc2UiKTsKLy8geW91IG1heSBub3QgdXNlIHRoaXMgZmlsZSBleGNlcHQgaW4gY29tcGxpYW5jZSB3aXRoIHRoZSBMaWNlbnNlLgovLyBZb3UgbWF5IG9idGFpbiBhIGNvcHkgb2YgdGhlIExpY2Vuc2UgYXQKLy8KLy8gICAgICBodHRwOi8vd3d3LmFwYWNoZS5vcmcvbGljZW5zZXMvTElDRU5TRS0yLjAKLy8KLy8gVW5sZXNzIHJlcXVpcmVkIGJ5IGFwcGxpY2FibGUgbGF3IG9yIGFncmVlZCB0byBpbiB3cml0aW5nLCBzb2Z0d2FyZQovLyBkaXN0cmlidXRlZCB1bmRlciB0aGUgTGljZW5zZSBpcyBkaXN0cmlidXRlZCBvbiBhbiAiQVMgSVMiIEJBU0lTLAovLyBXSVRIT1VUIFdBUlJBTlRJRVMgT1IgQ09ORElUSU9OUyBPRiBBTlkgS0lORCwgZWl0aGVyIGV4cHJlc3Mgb3IgaW1wbGllZC4KLy8gU2VlIHRoZSBMaWNlbnNlIGZvciB0aGUgc3BlY2lmaWMgbGFuZ3VhZ2UgZ292ZXJuaW5nIHBlcm1pc3Npb25zIGFuZAovLyBsaW1pdGF0aW9ucyB1bmRlciB0aGUgTGljZW5zZS4KCi8qKgogKiBAZmlsZW92ZXJ2aWV3IEhlbHBlcnMgZm9yIGdvb2dsZS5jb2xhYiBQeXRob24gbW9kdWxlLgogKi8KKGZ1bmN0aW9uKHNjb3BlKSB7CmZ1bmN0aW9uIHNwYW4odGV4dCwgc3R5bGVBdHRyaWJ1dGVzID0ge30pIHsKICBjb25zdCBlbGVtZW50ID0gZG9jdW1lbnQuY3JlYXRlRWxlbWVudCgnc3BhbicpOwogIGVsZW1lbnQudGV4dENvbnRlbnQgPSB0ZXh0OwogIGZvciAoY29uc3Qga2V5IG9mIE9iamVjdC5rZXlzKHN0eWxlQXR0cmlidXRlcykpIHsKICAgIGVsZW1lbnQuc3R5bGVba2V5XSA9IHN0eWxlQXR0cmlidXRlc1trZXldOwogIH0KICByZXR1cm4gZWxlbWVudDsKfQoKLy8gTWF4IG51bWJlciBvZiBieXRlcyB3aGljaCB3aWxsIGJlIHVwbG9hZGVkIGF0IGEgdGltZS4KY29uc3QgTUFYX1BBWUxPQURfU0laRSA9IDEwMCAqIDEwMjQ7Ci8vIE1heCBhbW91bnQgb2YgdGltZSB0byBibG9jayB3YWl0aW5nIGZvciB0aGUgdXNlci4KY29uc3QgRklMRV9DSEFOR0VfVElNRU9VVF9NUyA9IDMwICogMTAwMDsKCmZ1bmN0aW9uIF91cGxvYWRGaWxlcyhpbnB1dElkLCBvdXRwdXRJZCkgewogIGNvbnN0IHN0ZXBzID0gdXBsb2FkRmlsZXNTdGVwKGlucHV0SWQsIG91dHB1dElkKTsKICBjb25zdCBvdXRwdXRFbGVtZW50ID0gZG9jdW1lbnQuZ2V0RWxlbWVudEJ5SWQob3V0cHV0SWQpOwogIC8vIENhY2hlIHN0ZXBzIG9uIHRoZSBvdXRwdXRFbGVtZW50IHRvIG1ha2UgaXQgYXZhaWxhYmxlIGZvciB0aGUgbmV4dCBjYWxsCiAgLy8gdG8gdXBsb2FkRmlsZXNDb250aW51ZSBmcm9tIFB5dGhvbi4KICBvdXRwdXRFbGVtZW50LnN0ZXBzID0gc3RlcHM7CgogIHJldHVybiBfdXBsb2FkRmlsZXNDb250aW51ZShvdXRwdXRJZCk7Cn0KCi8vIFRoaXMgaXMgcm91Z2hseSBhbiBhc3luYyBnZW5lcmF0b3IgKG5vdCBzdXBwb3J0ZWQgaW4gdGhlIGJyb3dzZXIgeWV0KSwKLy8gd2hlcmUgdGhlcmUgYXJlIG11bHRpcGxlIGFzeW5jaHJvbm91cyBzdGVwcyBhbmQgdGhlIFB5dGhvbiBzaWRlIGlzIGdvaW5nCi8vIHRvIHBvbGwgZm9yIGNvbXBsZXRpb24gb2YgZWFjaCBzdGVwLgovLyBUaGlzIHVzZXMgYSBQcm9taXNlIHRvIGJsb2NrIHRoZSBweXRob24gc2lkZSBvbiBjb21wbGV0aW9uIG9mIGVhY2ggc3RlcCwKLy8gdGhlbiBwYXNzZXMgdGhlIHJlc3VsdCBvZiB0aGUgcHJldmlvdXMgc3RlcCBhcyB0aGUgaW5wdXQgdG8gdGhlIG5leHQgc3RlcC4KZnVuY3Rpb24gX3VwbG9hZEZpbGVzQ29udGludWUob3V0cHV0SWQpIHsKICBjb25zdCBvdXRwdXRFbGVtZW50ID0gZG9jdW1lbnQuZ2V0RWxlbWVudEJ5SWQob3V0cHV0SWQpOwogIGNvbnN0IHN0ZXBzID0gb3V0cHV0RWxlbWVudC5zdGVwczsKCiAgY29uc3QgbmV4dCA9IHN0ZXBzLm5leHQob3V0cHV0RWxlbWVudC5sYXN0UHJvbWlzZVZhbHVlKTsKICByZXR1cm4gUHJvbWlzZS5yZXNvbHZlKG5leHQudmFsdWUucHJvbWlzZSkudGhlbigodmFsdWUpID0+IHsKICAgIC8vIENhY2hlIHRoZSBsYXN0IHByb21pc2UgdmFsdWUgdG8gbWFrZSBpdCBhdmFpbGFibGUgdG8gdGhlIG5leHQKICAgIC8vIHN0ZXAgb2YgdGhlIGdlbmVyYXRvci4KICAgIG91dHB1dEVsZW1lbnQubGFzdFByb21pc2VWYWx1ZSA9IHZhbHVlOwogICAgcmV0dXJuIG5leHQudmFsdWUucmVzcG9uc2U7CiAgfSk7Cn0KCi8qKgogKiBHZW5lcmF0b3IgZnVuY3Rpb24gd2hpY2ggaXMgY2FsbGVkIGJldHdlZW4gZWFjaCBhc3luYyBzdGVwIG9mIHRoZSB1cGxvYWQKICogcHJvY2Vzcy4KICogQHBhcmFtIHtzdHJpbmd9IGlucHV0SWQgRWxlbWVudCBJRCBvZiB0aGUgaW5wdXQgZmlsZSBwaWNrZXIgZWxlbWVudC4KICogQHBhcmFtIHtzdHJpbmd9IG91dHB1dElkIEVsZW1lbnQgSUQgb2YgdGhlIG91dHB1dCBkaXNwbGF5LgogKiBAcmV0dXJuIHshSXRlcmFibGU8IU9iamVjdD59IEl0ZXJhYmxlIG9mIG5leHQgc3RlcHMuCiAqLwpmdW5jdGlvbiogdXBsb2FkRmlsZXNTdGVwKGlucHV0SWQsIG91dHB1dElkKSB7CiAgY29uc3QgaW5wdXRFbGVtZW50ID0gZG9jdW1lbnQuZ2V0RWxlbWVudEJ5SWQoaW5wdXRJZCk7CiAgaW5wdXRFbGVtZW50LmRpc2FibGVkID0gZmFsc2U7CgogIGNvbnN0IG91dHB1dEVsZW1lbnQgPSBkb2N1bWVudC5nZXRFbGVtZW50QnlJZChvdXRwdXRJZCk7CiAgb3V0cHV0RWxlbWVudC5pbm5lckhUTUwgPSAnJzsKCiAgY29uc3QgcGlja2VkUHJvbWlzZSA9IG5ldyBQcm9taXNlKChyZXNvbHZlKSA9PiB7CiAgICBpbnB1dEVsZW1lbnQuYWRkRXZlbnRMaXN0ZW5lcignY2hhbmdlJywgKGUpID0+IHsKICAgICAgcmVzb2x2ZShlLnRhcmdldC5maWxlcyk7CiAgICB9KTsKICB9KTsKCiAgY29uc3QgY2FuY2VsID0gZG9jdW1lbnQuY3JlYXRlRWxlbWVudCgnYnV0dG9uJyk7CiAgaW5wdXRFbGVtZW50LnBhcmVudEVsZW1lbnQuYXBwZW5kQ2hpbGQoY2FuY2VsKTsKICBjYW5jZWwudGV4dENvbnRlbnQgPSAnQ2FuY2VsIHVwbG9hZCc7CiAgY29uc3QgY2FuY2VsUHJvbWlzZSA9IG5ldyBQcm9taXNlKChyZXNvbHZlKSA9PiB7CiAgICBjYW5jZWwub25jbGljayA9ICgpID0+IHsKICAgICAgcmVzb2x2ZShudWxsKTsKICAgIH07CiAgfSk7CgogIC8vIENhbmNlbCB1cGxvYWQgaWYgdXNlciBoYXNuJ3QgcGlja2VkIGFueXRoaW5nIGluIHRpbWVvdXQuCiAgY29uc3QgdGltZW91dFByb21pc2UgPSBuZXcgUHJvbWlzZSgocmVzb2x2ZSkgPT4gewogICAgc2V0VGltZW91dCgoKSA9PiB7CiAgICAgIHJlc29sdmUobnVsbCk7CiAgICB9LCBGSUxFX0NIQU5HRV9USU1FT1VUX01TKTsKICB9KTsKCiAgLy8gV2FpdCBmb3IgdGhlIHVzZXIgdG8gcGljayB0aGUgZmlsZXMuCiAgY29uc3QgZmlsZXMgPSB5aWVsZCB7CiAgICBwcm9taXNlOiBQcm9taXNlLnJhY2UoW3BpY2tlZFByb21pc2UsIHRpbWVvdXRQcm9taXNlLCBjYW5jZWxQcm9taXNlXSksCiAgICByZXNwb25zZTogewogICAgICBhY3Rpb246ICdzdGFydGluZycsCiAgICB9CiAgfTsKCiAgaWYgKCFmaWxlcykgewogICAgcmV0dXJuIHsKICAgICAgcmVzcG9uc2U6IHsKICAgICAgICBhY3Rpb246ICdjb21wbGV0ZScsCiAgICAgIH0KICAgIH07CiAgfQoKICBjYW5jZWwucmVtb3ZlKCk7CgogIC8vIERpc2FibGUgdGhlIGlucHV0IGVsZW1lbnQgc2luY2UgZnVydGhlciBwaWNrcyBhcmUgbm90IGFsbG93ZWQuCiAgaW5wdXRFbGVtZW50LmRpc2FibGVkID0gdHJ1ZTsKCiAgZm9yIChjb25zdCBmaWxlIG9mIGZpbGVzKSB7CiAgICBjb25zdCBsaSA9IGRvY3VtZW50LmNyZWF0ZUVsZW1lbnQoJ2xpJyk7CiAgICBsaS5hcHBlbmQoc3BhbihmaWxlLm5hbWUsIHtmb250V2VpZ2h0OiAnYm9sZCd9KSk7CiAgICBsaS5hcHBlbmQoc3BhbigKICAgICAgICBgKCR7ZmlsZS50eXBlIHx8ICduL2EnfSkgLSAke2ZpbGUuc2l6ZX0gYnl0ZXMsIGAgKwogICAgICAgIGBsYXN0IG1vZGlmaWVkOiAkewogICAgICAgICAgICBmaWxlLmxhc3RNb2RpZmllZERhdGUgPyBmaWxlLmxhc3RNb2RpZmllZERhdGUudG9Mb2NhbGVEYXRlU3RyaW5nKCkgOgogICAgICAgICAgICAgICAgICAgICAgICAgICAgICAgICAgICAnbi9hJ30gLSBgKSk7CiAgICBjb25zdCBwZXJjZW50ID0gc3BhbignMCUgZG9uZScpOwogICAgbGkuYXBwZW5kQ2hpbGQocGVyY2VudCk7CgogICAgb3V0cHV0RWxlbWVudC5hcHBlbmRDaGlsZChsaSk7CgogICAgY29uc3QgZmlsZURhdGFQcm9taXNlID0gbmV3IFByb21pc2UoKHJlc29sdmUpID0+IHsKICAgICAgY29uc3QgcmVhZGVyID0gbmV3IEZpbGVSZWFkZXIoKTsKICAgICAgcmVhZGVyLm9ubG9hZCA9IChlKSA9PiB7CiAgICAgICAgcmVzb2x2ZShlLnRhcmdldC5yZXN1bHQpOwogICAgICB9OwogICAgICByZWFkZXIucmVhZEFzQXJyYXlCdWZmZXIoZmlsZSk7CiAgICB9KTsKICAgIC8vIFdhaXQgZm9yIHRoZSBkYXRhIHRvIGJlIHJlYWR5LgogICAgbGV0IGZpbGVEYXRhID0geWllbGQgewogICAgICBwcm9taXNlOiBmaWxlRGF0YVByb21pc2UsCiAgICAgIHJlc3BvbnNlOiB7CiAgICAgICAgYWN0aW9uOiAnY29udGludWUnLAogICAgICB9CiAgICB9OwoKICAgIC8vIFVzZSBhIGNodW5rZWQgc2VuZGluZyB0byBhdm9pZCBtZXNzYWdlIHNpemUgbGltaXRzLiBTZWUgYi82MjExNTY2MC4KICAgIGxldCBwb3NpdGlvbiA9IDA7CiAgICB3aGlsZSAocG9zaXRpb24gPCBmaWxlRGF0YS5ieXRlTGVuZ3RoKSB7CiAgICAgIGNvbnN0IGxlbmd0aCA9IE1hdGgubWluKGZpbGVEYXRhLmJ5dGVMZW5ndGggLSBwb3NpdGlvbiwgTUFYX1BBWUxPQURfU0laRSk7CiAgICAgIGNvbnN0IGNodW5rID0gbmV3IFVpbnQ4QXJyYXkoZmlsZURhdGEsIHBvc2l0aW9uLCBsZW5ndGgpOwogICAgICBwb3NpdGlvbiArPSBsZW5ndGg7CgogICAgICBjb25zdCBiYXNlNjQgPSBidG9hKFN0cmluZy5mcm9tQ2hhckNvZGUuYXBwbHkobnVsbCwgY2h1bmspKTsKICAgICAgeWllbGQgewogICAgICAgIHJlc3BvbnNlOiB7CiAgICAgICAgICBhY3Rpb246ICdhcHBlbmQnLAogICAgICAgICAgZmlsZTogZmlsZS5uYW1lLAogICAgICAgICAgZGF0YTogYmFzZTY0LAogICAgICAgIH0sCiAgICAgIH07CiAgICAgIHBlcmNlbnQudGV4dENvbnRlbnQgPQogICAgICAgICAgYCR7TWF0aC5yb3VuZCgocG9zaXRpb24gLyBmaWxlRGF0YS5ieXRlTGVuZ3RoKSAqIDEwMCl9JSBkb25lYDsKICAgIH0KICB9CgogIC8vIEFsbCBkb25lLgogIHlpZWxkIHsKICAgIHJlc3BvbnNlOiB7CiAgICAgIGFjdGlvbjogJ2NvbXBsZXRlJywKICAgIH0KICB9Owp9CgpzY29wZS5nb29nbGUgPSBzY29wZS5nb29nbGUgfHwge307CnNjb3BlLmdvb2dsZS5jb2xhYiA9IHNjb3BlLmdvb2dsZS5jb2xhYiB8fCB7fTsKc2NvcGUuZ29vZ2xlLmNvbGFiLl9maWxlcyA9IHsKICBfdXBsb2FkRmlsZXMsCiAgX3VwbG9hZEZpbGVzQ29udGludWUsCn07Cn0pKHNlbGYpOwo=",
              "ok": true,
              "headers": [
                [
                  "content-type",
                  "application/javascript"
                ]
              ],
              "status": 200,
              "status_text": ""
            }
          },
          "base_uri": "https://localhost:8080/",
          "height": 58
        }
      },
      "source": [
        "# uploading the csv containing all the company names (reference: https://towardsdatascience.com/3-ways-to-load-csv-files-into-colab-7c14fcbdcb92)\n",
        "from google.colab import files\n",
        "uploaded = files.upload()"
      ],
      "execution_count": 0,
      "outputs": [
        {
          "output_type": "display_data",
          "data": {
            "text/html": [
              "\n",
              "     <input type=\"file\" id=\"files-c369a3ff-32f9-42cb-8301-bd58e8398e99\" name=\"files[]\" multiple disabled />\n",
              "     <output id=\"result-c369a3ff-32f9-42cb-8301-bd58e8398e99\">\n",
              "      Upload widget is only available when the cell has been executed in the\n",
              "      current browser session. Please rerun this cell to enable.\n",
              "      </output>\n",
              "      <script src=\"/nbextensions/google.colab/files.js\"></script> "
            ],
            "text/plain": [
              "<IPython.core.display.HTML object>"
            ]
          },
          "metadata": {
            "tags": []
          }
        },
        {
          "output_type": "stream",
          "text": [
            "Saving kagglecompanies.csv to kagglecompanies.csv\n"
          ],
          "name": "stdout"
        }
      ]
    },
    {
      "cell_type": "code",
      "metadata": {
        "id": "DuR0bkiLKnYS",
        "colab_type": "code",
        "outputId": "341a7485-0215-4dc4-864d-3aa4f93fcf56",
        "colab": {
          "base_uri": "https://localhost:8080/",
          "height": 202
        }
      },
      "source": [
        "# indicating the company names as stopwords\n",
        "import io\n",
        "\n",
        "companynames = pd.read_csv(io.BytesIO(uploaded['kagglecompanies.csv']), names=[\"Names\"])\n",
        "companynames.head()"
      ],
      "execution_count": 0,
      "outputs": [
        {
          "output_type": "execute_result",
          "data": {
            "text/html": [
              "<div>\n",
              "<style scoped>\n",
              "    .dataframe tbody tr th:only-of-type {\n",
              "        vertical-align: middle;\n",
              "    }\n",
              "\n",
              "    .dataframe tbody tr th {\n",
              "        vertical-align: top;\n",
              "    }\n",
              "\n",
              "    .dataframe thead th {\n",
              "        text-align: right;\n",
              "    }\n",
              "</style>\n",
              "<table border=\"1\" class=\"dataframe\">\n",
              "  <thead>\n",
              "    <tr style=\"text-align: right;\">\n",
              "      <th></th>\n",
              "      <th>Names</th>\n",
              "    </tr>\n",
              "  </thead>\n",
              "  <tbody>\n",
              "    <tr>\n",
              "      <th>0</th>\n",
              "      <td>ATT</td>\n",
              "    </tr>\n",
              "    <tr>\n",
              "      <th>1</th>\n",
              "      <td>ATVIAssist</td>\n",
              "    </tr>\n",
              "    <tr>\n",
              "      <th>2</th>\n",
              "      <td>AWSSupport</td>\n",
              "    </tr>\n",
              "    <tr>\n",
              "      <th>3</th>\n",
              "      <td>AdobeCare</td>\n",
              "    </tr>\n",
              "    <tr>\n",
              "      <th>4</th>\n",
              "      <td>AirAsiaSupport</td>\n",
              "    </tr>\n",
              "  </tbody>\n",
              "</table>\n",
              "</div>"
            ],
            "text/plain": [
              "            Names\n",
              "0             ATT\n",
              "1      ATVIAssist\n",
              "2      AWSSupport\n",
              "3       AdobeCare\n",
              "4  AirAsiaSupport"
            ]
          },
          "metadata": {
            "tags": []
          },
          "execution_count": 10
        }
      ]
    },
    {
      "cell_type": "code",
      "metadata": {
        "id": "UI2kQ_QDKxeB",
        "colab_type": "code",
        "outputId": "eb195943-023f-4824-e05f-602104e15523",
        "colab": {
          "base_uri": "https://localhost:8080/",
          "height": 35
        }
      },
      "source": [
        "addtl_stopwords = list(companynames.Names.values) # companynames.Names.values is numpy array\n",
        "print(addtl_stopwords[:6])"
      ],
      "execution_count": 0,
      "outputs": [
        {
          "output_type": "stream",
          "text": [
            "['ATT', 'ATVIAssist', 'AWSSupport', 'AdobeCare', 'AirAsiaSupport', 'AirbnbHelp']\n"
          ],
          "name": "stdout"
        }
      ]
    },
    {
      "cell_type": "code",
      "metadata": {
        "id": "3NNHnMoY42xr",
        "colab_type": "code",
        "colab": {}
      },
      "source": [
        "# function to remove stop words\n",
        "\n",
        "def remove_stop_words(corpus):\n",
        "    removed_stop_words = []\n",
        "    for word in corpus:\n",
        "        if word not in addtl_stopwords:\n",
        "          removed_stop_words.append(word)\n",
        "    return ' '.join(removed_stop_words)"
      ],
      "execution_count": 0,
      "outputs": []
    }
  ]
}