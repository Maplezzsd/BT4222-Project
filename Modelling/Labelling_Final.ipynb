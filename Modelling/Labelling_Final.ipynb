{
 "cells": [
  {
   "cell_type": "code",
   "execution_count": 42,
   "metadata": {},
   "outputs": [],
   "source": [
    "import pandas as pd"
   ]
  },
  {
   "cell_type": "code",
   "execution_count": 43,
   "metadata": {},
   "outputs": [],
   "source": [
    "kaggle_data = pd.read_csv('fromkaggle.csv', )"
   ]
  },
  {
   "cell_type": "code",
   "execution_count": 44,
   "metadata": {},
   "outputs": [
    {
     "data": {
      "text/plain": [
       "Index(['tweet_id', 'author_id', 'inbound', 'created_at', 'text',\n",
       "       'response_tweet_id', 'in_response_to_tweet_id'],\n",
       "      dtype='object')"
      ]
     },
     "execution_count": 44,
     "metadata": {},
     "output_type": "execute_result"
    }
   ],
   "source": [
    "kaggle_data.columns"
   ]
  },
  {
   "cell_type": "markdown",
   "metadata": {},
   "source": [
    "1. Add lables on whether the tweets come from a company or user"
   ]
  },
  {
   "cell_type": "code",
   "execution_count": 45,
   "metadata": {},
   "outputs": [],
   "source": [
    "whether_tweet_from_com = []"
   ]
  },
  {
   "cell_type": "code",
   "execution_count": 46,
   "metadata": {},
   "outputs": [],
   "source": [
    "for i in range(0 ,len(kaggle_data)):\n",
    "    authorID = kaggle_data.at[i, 'author_id']\n",
    "    authorID = ''.join(j for j in authorID if not j.isdigit())\n",
    "    if authorID == '':\n",
    "        whether_tweet_from_com.append(0)\n",
    "    else:\n",
    "        whether_tweet_from_com.append(1)"
   ]
  },
  {
   "cell_type": "code",
   "execution_count": 47,
   "metadata": {},
   "outputs": [],
   "source": [
    "kaggle_data['tweet_from_company'] = whether_tweet_from_com"
   ]
  },
  {
   "cell_type": "markdown",
   "metadata": {},
   "source": [
    "2. Based on the tweet's author, further generate the label\n",
    "\n",
    "   1) The response should be from company\n",
    "   \n",
    "   2) The questions should be from users"
   ]
  },
  {
   "cell_type": "code",
   "execution_count": 48,
   "metadata": {},
   "outputs": [],
   "source": [
    "kaggle_data_fromcom = kaggle_data[kaggle_data.tweet_from_company == 1]"
   ]
  },
  {
   "cell_type": "code",
   "execution_count": 49,
   "metadata": {},
   "outputs": [],
   "source": [
    "response_text = kaggle_data_fromcom[kaggle_data_fromcom.in_response_to_tweet_id.notnull()].text\n",
    "response_tweet_inres = kaggle_data_fromcom[kaggle_data_fromcom.in_response_to_tweet_id.notnull()].in_response_to_tweet_id\n",
    "tweet_ids = kaggle_data_fromcom[kaggle_data_fromcom.in_response_to_tweet_id.notnull()].tweet_id"
   ]
  },
  {
   "cell_type": "code",
   "execution_count": 50,
   "metadata": {},
   "outputs": [
    {
     "name": "stdout",
     "output_type": "stream",
     "text": [
      "1266942\n",
      "1266942\n"
     ]
    }
   ],
   "source": [
    "print(len(response_text))\n",
    "print(len(response_tweet_inres))"
   ]
  },
  {
   "cell_type": "code",
   "execution_count": 51,
   "metadata": {},
   "outputs": [],
   "source": [
    "response_text_small = response_text.apply(lambda x: str(x).lower())"
   ]
  },
  {
   "cell_type": "code",
   "execution_count": 52,
   "metadata": {},
   "outputs": [],
   "source": [
    "non_response_list = [['dm', 'me'], ['dm', 'us'], ['please', 'share'], ['we', 'dm'], ['send us', ''], ['send me', ''], \n",
    "                     ['direct message', 'me'],['direct message', 'us'],['we','direct message'], ['we', 'send'],\n",
    "                    ['reach out', 'us']]"
   ]
  },
  {
   "cell_type": "code",
   "execution_count": 53,
   "metadata": {},
   "outputs": [],
   "source": [
    "response_list = ['account information', 'account number', 'full name', 'email address', 'reservation']"
   ]
  },
  {
   "cell_type": "code",
   "execution_count": 54,
   "metadata": {},
   "outputs": [],
   "source": [
    "def check_non_response(non_response_list, text):\n",
    "    for vec in non_response_list:\n",
    "        if vec[0] in text and vec[1] in text:\n",
    "            return True\n",
    "    return False"
   ]
  },
  {
   "cell_type": "code",
   "execution_count": 55,
   "metadata": {},
   "outputs": [],
   "source": [
    "def check_response(response_list, text):\n",
    "    for string in response_list:\n",
    "        if string in text:\n",
    "            return True\n",
    "    return False"
   ]
  },
  {
   "cell_type": "code",
   "execution_count": 56,
   "metadata": {},
   "outputs": [],
   "source": [
    "response_ability_labels = {}"
   ]
  },
  {
   "cell_type": "code",
   "execution_count": 57,
   "metadata": {},
   "outputs": [],
   "source": [
    "for row_num in range(0, len(response_text_small)):\n",
    "    text = str(response_text_small.iloc[row_num])\n",
    "    inres = str(int(response_tweet_inres.iloc[row_num]))\n",
    "    tweetid = str(int(tweet_ids.iloc[row_num]))\n",
    "    \n",
    "    if check_non_response(non_response_list, text) == True and check_response(response_list, text) == False:\n",
    "        response_ability_labels[inres] = 0\n",
    "    else:\n",
    "        response_ability_labels[inres] = 1"
   ]
  },
  {
   "cell_type": "markdown",
   "metadata": {},
   "source": [
    "3. Mark the labelling back to kaggle dataframe with question author id not company"
   ]
  },
  {
   "cell_type": "code",
   "execution_count": 58,
   "metadata": {},
   "outputs": [],
   "source": [
    "response_ability_labels_list = []"
   ]
  },
  {
   "cell_type": "code",
   "execution_count": 59,
   "metadata": {},
   "outputs": [],
   "source": [
    "for row_num in range(0, len(kaggle_data)):\n",
    "    from_com = kaggle_data.tweet_from_company.iloc[row_num]\n",
    "    tweetid = str(kaggle_data.tweet_id.iloc[row_num])\n",
    "    if tweetid in response_ability_labels and from_com == 0:\n",
    "        response_ability_labels_list.append(response_ability_labels[tweetid])\n",
    "    else:\n",
    "        response_ability_labels_list.append('nan')"
   ]
  },
  {
   "cell_type": "code",
   "execution_count": 60,
   "metadata": {},
   "outputs": [],
   "source": [
    "kaggle_data['response_ability_label'] = response_ability_labels_list"
   ]
  },
  {
   "cell_type": "code",
   "execution_count": 61,
   "metadata": {},
   "outputs": [
    {
     "data": {
      "text/plain": [
       "Index(['tweet_id', 'author_id', 'inbound', 'created_at', 'text',\n",
       "       'response_tweet_id', 'in_response_to_tweet_id', 'tweet_from_company',\n",
       "       'response_ability_label'],\n",
       "      dtype='object')"
      ]
     },
     "execution_count": 61,
     "metadata": {},
     "output_type": "execute_result"
    }
   ],
   "source": [
    "kaggle_data.columns"
   ]
  },
  {
   "cell_type": "code",
   "execution_count": 62,
   "metadata": {},
   "outputs": [],
   "source": [
    "kaggle_data.to_csv('./kaggle_inter.csv', index=False) # without filtering out any data ---- Used in second clustering"
   ]
  },
  {
   "cell_type": "markdown",
   "metadata": {},
   "source": [
    "4. Filter out the 'NaN' data"
   ]
  },
  {
   "cell_type": "code",
   "execution_count": 21,
   "metadata": {},
   "outputs": [],
   "source": [
    "kaggle_data_labeled = kaggle_data[kaggle_data.response_ability_label != 'nan']"
   ]
  },
  {
   "cell_type": "code",
   "execution_count": 22,
   "metadata": {},
   "outputs": [
    {
     "data": {
      "text/plain": [
       "1164365"
      ]
     },
     "execution_count": 22,
     "metadata": {},
     "output_type": "execute_result"
    }
   ],
   "source": [
    "len(kaggle_data_labeled)"
   ]
  },
  {
   "cell_type": "markdown",
   "metadata": {},
   "source": [
    "5. Rebalance the data from different classes"
   ]
  },
  {
   "cell_type": "code",
   "execution_count": 99,
   "metadata": {},
   "outputs": [],
   "source": [
    "Train_able = kaggle_data_labeled.loc[kaggle_data_labeled.response_ability_label == 1]"
   ]
  },
  {
   "cell_type": "code",
   "execution_count": 100,
   "metadata": {},
   "outputs": [],
   "source": [
    "Train_disable = kaggle_data_labeled.loc[kaggle_data_labeled.response_ability_label == 0]"
   ]
  },
  {
   "cell_type": "code",
   "execution_count": 103,
   "metadata": {},
   "outputs": [
    {
     "name": "stdout",
     "output_type": "stream",
     "text": [
      "295252\n",
      "869113\n"
     ]
    }
   ],
   "source": [
    "print(len(Train_disable))\n",
    "print(len(Train_able))"
   ]
  },
  {
   "cell_type": "code",
   "execution_count": 104,
   "metadata": {},
   "outputs": [],
   "source": [
    "Train_able = Train_able.sample(n=295252)"
   ]
  },
  {
   "cell_type": "code",
   "execution_count": 105,
   "metadata": {},
   "outputs": [],
   "source": [
    "train_data = Train_able.append(Train_disable)"
   ]
  },
  {
   "cell_type": "markdown",
   "metadata": {},
   "source": [
    "6. Output final csv after labelling"
   ]
  },
  {
   "cell_type": "code",
   "execution_count": 106,
   "metadata": {},
   "outputs": [],
   "source": [
    "train_data.to_csv('./kaggle_labeled.csv', index = False)"
   ]
  },
  {
   "cell_type": "code",
   "execution_count": null,
   "metadata": {},
   "outputs": [],
   "source": []
  }
 ],
 "metadata": {
  "kernelspec": {
   "display_name": "Python 3",
   "language": "python",
   "name": "python3"
  },
  "language_info": {
   "codemirror_mode": {
    "name": "ipython",
    "version": 3
   },
   "file_extension": ".py",
   "mimetype": "text/x-python",
   "name": "python",
   "nbconvert_exporter": "python",
   "pygments_lexer": "ipython3",
   "version": "3.7.1"
  }
 },
 "nbformat": 4,
 "nbformat_minor": 4
}
